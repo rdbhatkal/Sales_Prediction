{
  "nbformat": 4,
  "nbformat_minor": 0,
  "metadata": {
    "colab": {
      "name": "Sales-prediction_pt5.ipynb",
      "provenance": [],
      "collapsed_sections": [],
      "include_colab_link": true
    },
    "kernelspec": {
      "name": "python3",
      "display_name": "Python 3"
    },
    "language_info": {
      "name": "python"
    }
  },
  "cells": [
    {
      "cell_type": "markdown",
      "metadata": {
        "id": "view-in-github",
        "colab_type": "text"
      },
      "source": [
        "<a href=\"https://colab.research.google.com/github/rdbhatkal/Sales_Prediction/blob/main/Sales_prediction_pt5.ipynb\" target=\"_parent\"><img src=\"https://colab.research.google.com/assets/colab-badge.svg\" alt=\"Open In Colab\"/></a>"
      ]
    },
    {
      "cell_type": "markdown",
      "source": [
        "## Sales Prediction Cleaning the Data Set"
      ],
      "metadata": {
        "id": "b0WQBhXAzTLF"
      }
    },
    {
      "cell_type": "code",
      "source": [
        "#Mount the drive\n",
        "from google.colab import drive\n",
        "drive.mount('/content/drive')"
      ],
      "metadata": {
        "colab": {
          "base_uri": "https://localhost:8080/"
        },
        "id": "9EUpYWP51RRm",
        "outputId": "5a8c13ad-3a22-4572-ecfa-0aa0eb3e5708"
      },
      "execution_count": 1,
      "outputs": [
        {
          "output_type": "stream",
          "name": "stdout",
          "text": [
            "Mounted at /content/drive\n"
          ]
        }
      ]
    },
    {
      "cell_type": "code",
      "source": [
        "#import all libraries\n",
        "import matplotlib.pyplot as plt\n",
        "import seaborn as sns\n",
        "import pandas as pd\n",
        "import numpy as np\n",
        "import matplotlib as mpl"
      ],
      "metadata": {
        "id": "sQwllAP79x7C"
      },
      "execution_count": 2,
      "outputs": []
    },
    {
      "cell_type": "code",
      "execution_count": 38,
      "metadata": {
        "id": "tRBx3g6YFOZZ"
      },
      "outputs": [],
      "source": [
        "# reading the csv file from the drive \n",
        "filename = '/content/drive/MyDrive/coding dojo/CodingDojo/02 Week 2_ Pandas/sales_predictions.csv'\n",
        "df = pd.read_csv(filename)"
      ]
    },
    {
      "cell_type": "code",
      "source": [
        "#creating a copy of the dataset for machine learning pre processing\n",
        "df_ml = df.copy()"
      ],
      "metadata": {
        "id": "B1Fn2q8-QS73"
      },
      "execution_count": 39,
      "outputs": []
    },
    {
      "cell_type": "code",
      "source": [
        "# Looking at first 5 rows of the dataframe\n",
        "df.head()"
      ],
      "metadata": {
        "colab": {
          "base_uri": "https://localhost:8080/",
          "height": 337
        },
        "id": "D1V1F-e8HWbB",
        "outputId": "279262a8-bf4b-43f3-cec9-2aae42bdefcc"
      },
      "execution_count": null,
      "outputs": [
        {
          "output_type": "execute_result",
          "data": {
            "text/plain": [
              "  Item_Identifier  Item_Weight Item_Fat_Content  Item_Visibility  \\\n",
              "0           FDA15         9.30          Low Fat         0.016047   \n",
              "1           DRC01         5.92          Regular         0.019278   \n",
              "2           FDN15        17.50          Low Fat         0.016760   \n",
              "3           FDX07        19.20          Regular         0.000000   \n",
              "4           NCD19         8.93          Low Fat         0.000000   \n",
              "\n",
              "               Item_Type  Item_MRP Outlet_Identifier  \\\n",
              "0                  Dairy  249.8092            OUT049   \n",
              "1            Soft Drinks   48.2692            OUT018   \n",
              "2                   Meat  141.6180            OUT049   \n",
              "3  Fruits and Vegetables  182.0950            OUT010   \n",
              "4              Household   53.8614            OUT013   \n",
              "\n",
              "   Outlet_Establishment_Year Outlet_Size Outlet_Location_Type  \\\n",
              "0                       1999      Medium               Tier 1   \n",
              "1                       2009      Medium               Tier 3   \n",
              "2                       1999      Medium               Tier 1   \n",
              "3                       1998         NaN               Tier 3   \n",
              "4                       1987        High               Tier 3   \n",
              "\n",
              "         Outlet_Type  Item_Outlet_Sales  \n",
              "0  Supermarket Type1          3735.1380  \n",
              "1  Supermarket Type2           443.4228  \n",
              "2  Supermarket Type1          2097.2700  \n",
              "3      Grocery Store           732.3800  \n",
              "4  Supermarket Type1           994.7052  "
            ],
            "text/html": [
              "\n",
              "  <div id=\"df-5fe1c53d-6beb-4b75-880d-512396710be8\">\n",
              "    <div class=\"colab-df-container\">\n",
              "      <div>\n",
              "<style scoped>\n",
              "    .dataframe tbody tr th:only-of-type {\n",
              "        vertical-align: middle;\n",
              "    }\n",
              "\n",
              "    .dataframe tbody tr th {\n",
              "        vertical-align: top;\n",
              "    }\n",
              "\n",
              "    .dataframe thead th {\n",
              "        text-align: right;\n",
              "    }\n",
              "</style>\n",
              "<table border=\"1\" class=\"dataframe\">\n",
              "  <thead>\n",
              "    <tr style=\"text-align: right;\">\n",
              "      <th></th>\n",
              "      <th>Item_Identifier</th>\n",
              "      <th>Item_Weight</th>\n",
              "      <th>Item_Fat_Content</th>\n",
              "      <th>Item_Visibility</th>\n",
              "      <th>Item_Type</th>\n",
              "      <th>Item_MRP</th>\n",
              "      <th>Outlet_Identifier</th>\n",
              "      <th>Outlet_Establishment_Year</th>\n",
              "      <th>Outlet_Size</th>\n",
              "      <th>Outlet_Location_Type</th>\n",
              "      <th>Outlet_Type</th>\n",
              "      <th>Item_Outlet_Sales</th>\n",
              "    </tr>\n",
              "  </thead>\n",
              "  <tbody>\n",
              "    <tr>\n",
              "      <th>0</th>\n",
              "      <td>FDA15</td>\n",
              "      <td>9.30</td>\n",
              "      <td>Low Fat</td>\n",
              "      <td>0.016047</td>\n",
              "      <td>Dairy</td>\n",
              "      <td>249.8092</td>\n",
              "      <td>OUT049</td>\n",
              "      <td>1999</td>\n",
              "      <td>Medium</td>\n",
              "      <td>Tier 1</td>\n",
              "      <td>Supermarket Type1</td>\n",
              "      <td>3735.1380</td>\n",
              "    </tr>\n",
              "    <tr>\n",
              "      <th>1</th>\n",
              "      <td>DRC01</td>\n",
              "      <td>5.92</td>\n",
              "      <td>Regular</td>\n",
              "      <td>0.019278</td>\n",
              "      <td>Soft Drinks</td>\n",
              "      <td>48.2692</td>\n",
              "      <td>OUT018</td>\n",
              "      <td>2009</td>\n",
              "      <td>Medium</td>\n",
              "      <td>Tier 3</td>\n",
              "      <td>Supermarket Type2</td>\n",
              "      <td>443.4228</td>\n",
              "    </tr>\n",
              "    <tr>\n",
              "      <th>2</th>\n",
              "      <td>FDN15</td>\n",
              "      <td>17.50</td>\n",
              "      <td>Low Fat</td>\n",
              "      <td>0.016760</td>\n",
              "      <td>Meat</td>\n",
              "      <td>141.6180</td>\n",
              "      <td>OUT049</td>\n",
              "      <td>1999</td>\n",
              "      <td>Medium</td>\n",
              "      <td>Tier 1</td>\n",
              "      <td>Supermarket Type1</td>\n",
              "      <td>2097.2700</td>\n",
              "    </tr>\n",
              "    <tr>\n",
              "      <th>3</th>\n",
              "      <td>FDX07</td>\n",
              "      <td>19.20</td>\n",
              "      <td>Regular</td>\n",
              "      <td>0.000000</td>\n",
              "      <td>Fruits and Vegetables</td>\n",
              "      <td>182.0950</td>\n",
              "      <td>OUT010</td>\n",
              "      <td>1998</td>\n",
              "      <td>NaN</td>\n",
              "      <td>Tier 3</td>\n",
              "      <td>Grocery Store</td>\n",
              "      <td>732.3800</td>\n",
              "    </tr>\n",
              "    <tr>\n",
              "      <th>4</th>\n",
              "      <td>NCD19</td>\n",
              "      <td>8.93</td>\n",
              "      <td>Low Fat</td>\n",
              "      <td>0.000000</td>\n",
              "      <td>Household</td>\n",
              "      <td>53.8614</td>\n",
              "      <td>OUT013</td>\n",
              "      <td>1987</td>\n",
              "      <td>High</td>\n",
              "      <td>Tier 3</td>\n",
              "      <td>Supermarket Type1</td>\n",
              "      <td>994.7052</td>\n",
              "    </tr>\n",
              "  </tbody>\n",
              "</table>\n",
              "</div>\n",
              "      <button class=\"colab-df-convert\" onclick=\"convertToInteractive('df-5fe1c53d-6beb-4b75-880d-512396710be8')\"\n",
              "              title=\"Convert this dataframe to an interactive table.\"\n",
              "              style=\"display:none;\">\n",
              "        \n",
              "  <svg xmlns=\"http://www.w3.org/2000/svg\" height=\"24px\"viewBox=\"0 0 24 24\"\n",
              "       width=\"24px\">\n",
              "    <path d=\"M0 0h24v24H0V0z\" fill=\"none\"/>\n",
              "    <path d=\"M18.56 5.44l.94 2.06.94-2.06 2.06-.94-2.06-.94-.94-2.06-.94 2.06-2.06.94zm-11 1L8.5 8.5l.94-2.06 2.06-.94-2.06-.94L8.5 2.5l-.94 2.06-2.06.94zm10 10l.94 2.06.94-2.06 2.06-.94-2.06-.94-.94-2.06-.94 2.06-2.06.94z\"/><path d=\"M17.41 7.96l-1.37-1.37c-.4-.4-.92-.59-1.43-.59-.52 0-1.04.2-1.43.59L10.3 9.45l-7.72 7.72c-.78.78-.78 2.05 0 2.83L4 21.41c.39.39.9.59 1.41.59.51 0 1.02-.2 1.41-.59l7.78-7.78 2.81-2.81c.8-.78.8-2.07 0-2.86zM5.41 20L4 18.59l7.72-7.72 1.47 1.35L5.41 20z\"/>\n",
              "  </svg>\n",
              "      </button>\n",
              "      \n",
              "  <style>\n",
              "    .colab-df-container {\n",
              "      display:flex;\n",
              "      flex-wrap:wrap;\n",
              "      gap: 12px;\n",
              "    }\n",
              "\n",
              "    .colab-df-convert {\n",
              "      background-color: #E8F0FE;\n",
              "      border: none;\n",
              "      border-radius: 50%;\n",
              "      cursor: pointer;\n",
              "      display: none;\n",
              "      fill: #1967D2;\n",
              "      height: 32px;\n",
              "      padding: 0 0 0 0;\n",
              "      width: 32px;\n",
              "    }\n",
              "\n",
              "    .colab-df-convert:hover {\n",
              "      background-color: #E2EBFA;\n",
              "      box-shadow: 0px 1px 2px rgba(60, 64, 67, 0.3), 0px 1px 3px 1px rgba(60, 64, 67, 0.15);\n",
              "      fill: #174EA6;\n",
              "    }\n",
              "\n",
              "    [theme=dark] .colab-df-convert {\n",
              "      background-color: #3B4455;\n",
              "      fill: #D2E3FC;\n",
              "    }\n",
              "\n",
              "    [theme=dark] .colab-df-convert:hover {\n",
              "      background-color: #434B5C;\n",
              "      box-shadow: 0px 1px 3px 1px rgba(0, 0, 0, 0.15);\n",
              "      filter: drop-shadow(0px 1px 2px rgba(0, 0, 0, 0.3));\n",
              "      fill: #FFFFFF;\n",
              "    }\n",
              "  </style>\n",
              "\n",
              "      <script>\n",
              "        const buttonEl =\n",
              "          document.querySelector('#df-5fe1c53d-6beb-4b75-880d-512396710be8 button.colab-df-convert');\n",
              "        buttonEl.style.display =\n",
              "          google.colab.kernel.accessAllowed ? 'block' : 'none';\n",
              "\n",
              "        async function convertToInteractive(key) {\n",
              "          const element = document.querySelector('#df-5fe1c53d-6beb-4b75-880d-512396710be8');\n",
              "          const dataTable =\n",
              "            await google.colab.kernel.invokeFunction('convertToInteractive',\n",
              "                                                     [key], {});\n",
              "          if (!dataTable) return;\n",
              "\n",
              "          const docLinkHtml = 'Like what you see? Visit the ' +\n",
              "            '<a target=\"_blank\" href=https://colab.research.google.com/notebooks/data_table.ipynb>data table notebook</a>'\n",
              "            + ' to learn more about interactive tables.';\n",
              "          element.innerHTML = '';\n",
              "          dataTable['output_type'] = 'display_data';\n",
              "          await google.colab.output.renderOutput(dataTable, element);\n",
              "          const docLink = document.createElement('div');\n",
              "          docLink.innerHTML = docLinkHtml;\n",
              "          element.appendChild(docLink);\n",
              "        }\n",
              "      </script>\n",
              "    </div>\n",
              "  </div>\n",
              "  "
            ]
          },
          "metadata": {},
          "execution_count": 4
        }
      ]
    },
    {
      "cell_type": "markdown",
      "source": [
        "# Using Pandas to start cleaning and exploring the data"
      ],
      "metadata": {
        "id": "MFCNi-uYTRpa"
      }
    },
    {
      "cell_type": "code",
      "source": [
        "#The shape of the data set \n",
        "df.shape"
      ],
      "metadata": {
        "colab": {
          "base_uri": "https://localhost:8080/"
        },
        "id": "V5haga_TTccY",
        "outputId": "4e2725f9-6e24-4e8c-d2b9-865844b53960"
      },
      "execution_count": null,
      "outputs": [
        {
          "output_type": "execute_result",
          "data": {
            "text/plain": [
              "(8523, 12)"
            ]
          },
          "metadata": {},
          "execution_count": 5
        }
      ]
    },
    {
      "cell_type": "code",
      "source": [
        "# Checking for duplicate values\n",
        "df.duplicated().sum()"
      ],
      "metadata": {
        "colab": {
          "base_uri": "https://localhost:8080/"
        },
        "id": "pFHE6cWfZZyw",
        "outputId": "e803ea1a-9197-4ac0-fdd2-7269d08de937"
      },
      "execution_count": null,
      "outputs": [
        {
          "output_type": "execute_result",
          "data": {
            "text/plain": [
              "0"
            ]
          },
          "metadata": {},
          "execution_count": 6
        }
      ]
    },
    {
      "cell_type": "markdown",
      "source": [
        "No duplicate values so we keep exploring"
      ],
      "metadata": {
        "id": "Pj_l77WymkJ0"
      }
    },
    {
      "cell_type": "code",
      "source": [
        "#Understanding the datatypes of each column\n",
        "df.dtypes"
      ],
      "metadata": {
        "colab": {
          "base_uri": "https://localhost:8080/"
        },
        "id": "XDtmlXIOURjG",
        "outputId": "a31c4da5-6bde-4588-d779-784ddb83483f"
      },
      "execution_count": null,
      "outputs": [
        {
          "output_type": "execute_result",
          "data": {
            "text/plain": [
              "Item_Identifier               object\n",
              "Item_Weight                  float64\n",
              "Item_Fat_Content              object\n",
              "Item_Visibility              float64\n",
              "Item_Type                     object\n",
              "Item_MRP                     float64\n",
              "Outlet_Identifier             object\n",
              "Outlet_Establishment_Year      int64\n",
              "Outlet_Size                   object\n",
              "Outlet_Location_Type          object\n",
              "Outlet_Type                   object\n",
              "Item_Outlet_Sales            float64\n",
              "dtype: object"
            ]
          },
          "metadata": {},
          "execution_count": 7
        }
      ]
    },
    {
      "cell_type": "code",
      "source": [
        "# change the data type of Outlet_Establishmnet_Year to string\n",
        "\n",
        "df['Outlet_Establishment_Year'] = df['Outlet_Establishment_Year'].astype(str)"
      ],
      "metadata": {
        "id": "GchFM_BJwJMv"
      },
      "execution_count": null,
      "outputs": []
    },
    {
      "cell_type": "code",
      "source": [
        "#Recheck the datatypes of each column\n",
        "df.dtypes"
      ],
      "metadata": {
        "colab": {
          "base_uri": "https://localhost:8080/"
        },
        "id": "d7ub6wVEzDbL",
        "outputId": "581fd483-32e3-421f-be1f-6bb5f537b340"
      },
      "execution_count": null,
      "outputs": [
        {
          "output_type": "execute_result",
          "data": {
            "text/plain": [
              "Item_Identifier               object\n",
              "Item_Weight                  float64\n",
              "Item_Fat_Content              object\n",
              "Item_Visibility              float64\n",
              "Item_Type                     object\n",
              "Item_MRP                     float64\n",
              "Outlet_Identifier             object\n",
              "Outlet_Establishment_Year     object\n",
              "Outlet_Size                   object\n",
              "Outlet_Location_Type          object\n",
              "Outlet_Type                   object\n",
              "Item_Outlet_Sales            float64\n",
              "dtype: object"
            ]
          },
          "metadata": {},
          "execution_count": 9
        }
      ]
    },
    {
      "cell_type": "code",
      "source": [
        "# Checking the number of unique values \n",
        "df.nunique()"
      ],
      "metadata": {
        "colab": {
          "base_uri": "https://localhost:8080/"
        },
        "id": "fzvXtYwrZ0yc",
        "outputId": "35533e27-1b51-4de4-b336-25757bdef480"
      },
      "execution_count": null,
      "outputs": [
        {
          "output_type": "execute_result",
          "data": {
            "text/plain": [
              "Item_Identifier              1559\n",
              "Item_Weight                   415\n",
              "Item_Fat_Content                5\n",
              "Item_Visibility              7880\n",
              "Item_Type                      16\n",
              "Item_MRP                     5938\n",
              "Outlet_Identifier              10\n",
              "Outlet_Establishment_Year       9\n",
              "Outlet_Size                     3\n",
              "Outlet_Location_Type            3\n",
              "Outlet_Type                     4\n",
              "Item_Outlet_Sales            3493\n",
              "dtype: int64"
            ]
          },
          "metadata": {},
          "execution_count": 10
        }
      ]
    },
    {
      "cell_type": "code",
      "source": [
        "#Checking for null values\n",
        "df.isna().sum()"
      ],
      "metadata": {
        "colab": {
          "base_uri": "https://localhost:8080/"
        },
        "id": "JQDrwL_BWgSq",
        "outputId": "d87f5fd4-9db7-435d-ba43-9bad00ddacd5"
      },
      "execution_count": null,
      "outputs": [
        {
          "output_type": "execute_result",
          "data": {
            "text/plain": [
              "Item_Identifier                 0\n",
              "Item_Weight                  1463\n",
              "Item_Fat_Content                0\n",
              "Item_Visibility                 0\n",
              "Item_Type                       0\n",
              "Item_MRP                        0\n",
              "Outlet_Identifier               0\n",
              "Outlet_Establishment_Year       0\n",
              "Outlet_Size                  2410\n",
              "Outlet_Location_Type            0\n",
              "Outlet_Type                     0\n",
              "Item_Outlet_Sales               0\n",
              "dtype: int64"
            ]
          },
          "metadata": {},
          "execution_count": 11
        }
      ]
    },
    {
      "cell_type": "markdown",
      "source": [
        "As we can see Item_Weight and Outlet_Size has significant missing values so they cannot be dropped."
      ],
      "metadata": {
        "id": "dabWZ7BfXUjr"
      }
    },
    {
      "cell_type": "markdown",
      "source": [
        "## Analyzing the Null Values "
      ],
      "metadata": {
        "id": "Fm67pmvPzl4A"
      }
    },
    {
      "cell_type": "markdown",
      "source": [
        "1) Lets look at Outlet_Size first"
      ],
      "metadata": {
        "id": "euHR6shZmvrk"
      }
    },
    {
      "cell_type": "code",
      "source": [
        "# Looking at Outlet Size \n",
        "df['Outlet_Size'].value_counts()"
      ],
      "metadata": {
        "colab": {
          "base_uri": "https://localhost:8080/"
        },
        "id": "GZkDO_t0W4jS",
        "outputId": "f15bfcba-63ca-48c6-8233-c0aa7619a5c0"
      },
      "execution_count": null,
      "outputs": [
        {
          "output_type": "execute_result",
          "data": {
            "text/plain": [
              "Medium    2793\n",
              "Small     2388\n",
              "High       932\n",
              "Name: Outlet_Size, dtype: int64"
            ]
          },
          "metadata": {},
          "execution_count": 12
        }
      ]
    },
    {
      "cell_type": "markdown",
      "source": [
        "Since Outlet_Size is a categorical column, we can fill the missing cells with ‘Unknown’"
      ],
      "metadata": {
        "id": "s6T16ILiYSQw"
      }
    },
    {
      "cell_type": "code",
      "source": [
        "df['Outlet_Size'].fillna(value='Unknown',inplace=True)\n"
      ],
      "metadata": {
        "id": "ImQSMHEkYccM"
      },
      "execution_count": null,
      "outputs": []
    },
    {
      "cell_type": "code",
      "source": [
        "# Lets check to see if the null values have been replaced\n",
        "df.isnull().sum()"
      ],
      "metadata": {
        "colab": {
          "base_uri": "https://localhost:8080/"
        },
        "id": "pdNw-wYwnJJ8",
        "outputId": "4494c31c-854b-4a01-ea9c-de562836adc7"
      },
      "execution_count": null,
      "outputs": [
        {
          "output_type": "execute_result",
          "data": {
            "text/plain": [
              "Item_Identifier                 0\n",
              "Item_Weight                  1463\n",
              "Item_Fat_Content                0\n",
              "Item_Visibility                 0\n",
              "Item_Type                       0\n",
              "Item_MRP                        0\n",
              "Outlet_Identifier               0\n",
              "Outlet_Establishment_Year       0\n",
              "Outlet_Size                     0\n",
              "Outlet_Location_Type            0\n",
              "Outlet_Type                     0\n",
              "Item_Outlet_Sales               0\n",
              "dtype: int64"
            ]
          },
          "metadata": {},
          "execution_count": 14
        }
      ]
    },
    {
      "cell_type": "markdown",
      "source": [
        "As we can see above, Outlet_Size no longer has null values"
      ],
      "metadata": {
        "id": "dzSor5wnnPyj"
      }
    },
    {
      "cell_type": "markdown",
      "source": [
        "2) Now lets look at null values in the Item_Weight column "
      ],
      "metadata": {
        "id": "UiNYr1ddY33b"
      }
    },
    {
      "cell_type": "code",
      "source": [
        "# Looking at Item Weight\n",
        "df['Item_Weight'].value_counts()"
      ],
      "metadata": {
        "colab": {
          "base_uri": "https://localhost:8080/"
        },
        "id": "ArJpQu1kYRRJ",
        "outputId": "67e076c3-4a69-4261-8257-8a3fa575afad"
      },
      "execution_count": null,
      "outputs": [
        {
          "output_type": "execute_result",
          "data": {
            "text/plain": [
              "12.150    86\n",
              "17.600    82\n",
              "13.650    77\n",
              "11.800    76\n",
              "15.100    68\n",
              "          ..\n",
              "7.275      2\n",
              "7.685      1\n",
              "9.420      1\n",
              "6.520      1\n",
              "5.400      1\n",
              "Name: Item_Weight, Length: 415, dtype: int64"
            ]
          },
          "metadata": {},
          "execution_count": 15
        }
      ]
    },
    {
      "cell_type": "code",
      "source": [
        "# Looking at Item_Type\n",
        "df['Item_Type'].value_counts()"
      ],
      "metadata": {
        "colab": {
          "base_uri": "https://localhost:8080/"
        },
        "id": "VgqNQO1hqM6Z",
        "outputId": "d3e714fe-52be-4a36-a012-71827f60a8c0"
      },
      "execution_count": null,
      "outputs": [
        {
          "output_type": "execute_result",
          "data": {
            "text/plain": [
              "Fruits and Vegetables    1232\n",
              "Snack Foods              1200\n",
              "Household                 910\n",
              "Frozen Foods              856\n",
              "Dairy                     682\n",
              "Canned                    649\n",
              "Baking Goods              648\n",
              "Health and Hygiene        520\n",
              "Soft Drinks               445\n",
              "Meat                      425\n",
              "Breads                    251\n",
              "Hard Drinks               214\n",
              "Others                    169\n",
              "Starchy Foods             148\n",
              "Breakfast                 110\n",
              "Seafood                    64\n",
              "Name: Item_Type, dtype: int64"
            ]
          },
          "metadata": {},
          "execution_count": 16
        }
      ]
    },
    {
      "cell_type": "markdown",
      "source": [
        "Let us assume that products that belong to a certain \"Item_Type\" group are similar in weight \n",
        "\n",
        "We will replace the null values in the Item_Weight column with the mean weight of product who belong to the same Item_Type category \n",
        "\n",
        "Code Source: https://stackoverflow.com/questions/53338898/pandas-dataframe-replace-nan-values-with-average-of-a-certain-group\n"
      ],
      "metadata": {
        "id": "1GLMGjh-pe8S"
      }
    },
    {
      "cell_type": "code",
      "source": [
        "df['Item_Weight'] = df.Item_Weight.fillna(df.groupby('Item_Type')['Item_Weight'].transform('mean'))                                                                                                                                                          \n"
      ],
      "metadata": {
        "id": "TOK1PQmGq3jJ"
      },
      "execution_count": null,
      "outputs": []
    },
    {
      "cell_type": "code",
      "source": [
        "# Lets check to see if the null values have been replaced\n",
        "df.isnull().sum()"
      ],
      "metadata": {
        "colab": {
          "base_uri": "https://localhost:8080/"
        },
        "id": "96PONAeGrAnx",
        "outputId": "bb32f48e-8faa-4905-b379-0f0b1227048e"
      },
      "execution_count": null,
      "outputs": [
        {
          "output_type": "execute_result",
          "data": {
            "text/plain": [
              "Item_Identifier              0\n",
              "Item_Weight                  0\n",
              "Item_Fat_Content             0\n",
              "Item_Visibility              0\n",
              "Item_Type                    0\n",
              "Item_MRP                     0\n",
              "Outlet_Identifier            0\n",
              "Outlet_Establishment_Year    0\n",
              "Outlet_Size                  0\n",
              "Outlet_Location_Type         0\n",
              "Outlet_Type                  0\n",
              "Item_Outlet_Sales            0\n",
              "dtype: int64"
            ]
          },
          "metadata": {},
          "execution_count": 18
        }
      ]
    },
    {
      "cell_type": "markdown",
      "source": [
        "Since there are no more null values in our data set, we will continue with our exploration of the data"
      ],
      "metadata": {
        "id": "IyVG2pRLrHL8"
      }
    },
    {
      "cell_type": "markdown",
      "source": [
        "## Let us now take a closer look at all the Categorical data columns"
      ],
      "metadata": {
        "id": "-jNmSf2UrZD9"
      }
    },
    {
      "cell_type": "markdown",
      "source": [
        "1) Item_Fat_Content column"
      ],
      "metadata": {
        "id": "SkAiXm5zriJD"
      }
    },
    {
      "cell_type": "code",
      "source": [
        "df['Item_Fat_Content'].value_counts()"
      ],
      "metadata": {
        "colab": {
          "base_uri": "https://localhost:8080/"
        },
        "id": "S9L00wcdrpeM",
        "outputId": "16a8bfc0-4905-4e7f-eedd-e04da18cdc4b"
      },
      "execution_count": null,
      "outputs": [
        {
          "output_type": "execute_result",
          "data": {
            "text/plain": [
              "Low Fat    5089\n",
              "Regular    2889\n",
              "LF          316\n",
              "reg         117\n",
              "low fat     112\n",
              "Name: Item_Fat_Content, dtype: int64"
            ]
          },
          "metadata": {},
          "execution_count": 19
        }
      ]
    },
    {
      "cell_type": "markdown",
      "source": [
        "As we can see above, we have some inconsistency in category names and should be fixed"
      ],
      "metadata": {
        "id": "hLPPfCmtru5l"
      }
    },
    {
      "cell_type": "code",
      "source": [
        "# Replacing 'LF' with 'Low Fat'\n",
        "df['Item_Fat_Content'] = df['Item_Fat_Content'].replace('LF', 'Low Fat')\n",
        "# Replacing 'low fat' with 'Low Fat'\n",
        "df['Item_Fat_Content'] = df['Item_Fat_Content'].replace('low fat', 'Low Fat')\n",
        "# Replacing 'regular' with 'Regular'\n",
        "df['Item_Fat_Content'] = df['Item_Fat_Content'].replace('reg', 'Regular')"
      ],
      "metadata": {
        "id": "vJCo82z9iypK"
      },
      "execution_count": null,
      "outputs": []
    },
    {
      "cell_type": "code",
      "source": [
        "# Lets look at the value count once again\n",
        "df['Item_Fat_Content'].value_counts()"
      ],
      "metadata": {
        "colab": {
          "base_uri": "https://localhost:8080/"
        },
        "id": "wQpmuwLxsVR0",
        "outputId": "be974426-64c6-420a-9b58-04d5e532d868"
      },
      "execution_count": null,
      "outputs": [
        {
          "output_type": "execute_result",
          "data": {
            "text/plain": [
              "Low Fat    5517\n",
              "Regular    3006\n",
              "Name: Item_Fat_Content, dtype: int64"
            ]
          },
          "metadata": {},
          "execution_count": 21
        }
      ]
    },
    {
      "cell_type": "markdown",
      "source": [
        "We now have only two unique values for Item_Fat_Content, so we can continue with our exploration"
      ],
      "metadata": {
        "id": "eNbiQl02sRlF"
      }
    },
    {
      "cell_type": "markdown",
      "source": [
        "2) Item_Type column"
      ],
      "metadata": {
        "id": "TPBpvESCsvmW"
      }
    },
    {
      "cell_type": "code",
      "source": [
        "df['Item_Type'].value_counts()"
      ],
      "metadata": {
        "colab": {
          "base_uri": "https://localhost:8080/"
        },
        "id": "j-4E5Ja_s9ZU",
        "outputId": "53b81e07-45d6-406a-8700-308b1e6b9327"
      },
      "execution_count": null,
      "outputs": [
        {
          "output_type": "execute_result",
          "data": {
            "text/plain": [
              "Fruits and Vegetables    1232\n",
              "Snack Foods              1200\n",
              "Household                 910\n",
              "Frozen Foods              856\n",
              "Dairy                     682\n",
              "Canned                    649\n",
              "Baking Goods              648\n",
              "Health and Hygiene        520\n",
              "Soft Drinks               445\n",
              "Meat                      425\n",
              "Breads                    251\n",
              "Hard Drinks               214\n",
              "Others                    169\n",
              "Starchy Foods             148\n",
              "Breakfast                 110\n",
              "Seafood                    64\n",
              "Name: Item_Type, dtype: int64"
            ]
          },
          "metadata": {},
          "execution_count": 22
        }
      ]
    },
    {
      "cell_type": "markdown",
      "source": [
        "As we can see above, we only have unique categories so we can continue with our exploration"
      ],
      "metadata": {
        "id": "jf2gW_0ls97x"
      }
    },
    {
      "cell_type": "markdown",
      "source": [
        "3) Outlet _Size column"
      ],
      "metadata": {
        "id": "S0PKn7zQtQyz"
      }
    },
    {
      "cell_type": "code",
      "source": [
        "df['Outlet_Size'].value_counts()"
      ],
      "metadata": {
        "colab": {
          "base_uri": "https://localhost:8080/"
        },
        "id": "_MiPxOZGeB4w",
        "outputId": "8ba63b71-61ec-4c96-8b90-74f9ec10ee55"
      },
      "execution_count": null,
      "outputs": [
        {
          "output_type": "execute_result",
          "data": {
            "text/plain": [
              "Medium     2793\n",
              "Unknown    2410\n",
              "Small      2388\n",
              "High        932\n",
              "Name: Outlet_Size, dtype: int64"
            ]
          },
          "metadata": {},
          "execution_count": 23
        }
      ]
    },
    {
      "cell_type": "markdown",
      "source": [
        "As we can see above, we only have unique values in this category so we can continue with our exploration"
      ],
      "metadata": {
        "id": "Q4i76HTstXBz"
      }
    },
    {
      "cell_type": "markdown",
      "source": [
        "4) Outlet_Location_Type column"
      ],
      "metadata": {
        "id": "TIPkAE4ztkZj"
      }
    },
    {
      "cell_type": "code",
      "source": [
        "df['Outlet_Location_Type'].value_counts()"
      ],
      "metadata": {
        "colab": {
          "base_uri": "https://localhost:8080/"
        },
        "id": "O2dD-nU8eFaI",
        "outputId": "20577c32-4158-4773-dc30-7429ea0a9e4a"
      },
      "execution_count": null,
      "outputs": [
        {
          "output_type": "execute_result",
          "data": {
            "text/plain": [
              "Tier 3    3350\n",
              "Tier 2    2785\n",
              "Tier 1    2388\n",
              "Name: Outlet_Location_Type, dtype: int64"
            ]
          },
          "metadata": {},
          "execution_count": 24
        }
      ]
    },
    {
      "cell_type": "markdown",
      "source": [
        "As we can see above, we only have unique values in this category so we can continue with our exploration"
      ],
      "metadata": {
        "id": "Lup99rwQtsjl"
      }
    },
    {
      "cell_type": "markdown",
      "source": [
        "5) Outlet_Type column"
      ],
      "metadata": {
        "id": "NkK00pvgtu3E"
      }
    },
    {
      "cell_type": "code",
      "source": [
        "df['Outlet_Type'].value_counts()"
      ],
      "metadata": {
        "colab": {
          "base_uri": "https://localhost:8080/"
        },
        "id": "lwL79oxGeVAh",
        "outputId": "567b5524-384f-4d00-f0e3-a926c62ee36c"
      },
      "execution_count": null,
      "outputs": [
        {
          "output_type": "execute_result",
          "data": {
            "text/plain": [
              "Supermarket Type1    5577\n",
              "Grocery Store        1083\n",
              "Supermarket Type3     935\n",
              "Supermarket Type2     928\n",
              "Name: Outlet_Type, dtype: int64"
            ]
          },
          "metadata": {},
          "execution_count": 25
        }
      ]
    },
    {
      "cell_type": "markdown",
      "source": [
        "As we can see above, we only have unique values in this category so we can continue with our exploration"
      ],
      "metadata": {
        "id": "pCdDwXO5t2pc"
      }
    },
    {
      "cell_type": "markdown",
      "source": [
        "# Now let us take a deeper dive into our numerical columns and obtain a summary statistic of each column "
      ],
      "metadata": {
        "id": "q233_-Qxt4Af"
      }
    },
    {
      "cell_type": "code",
      "source": [
        "df.describe()"
      ],
      "metadata": {
        "colab": {
          "base_uri": "https://localhost:8080/",
          "height": 300
        },
        "id": "B4VKYgkoegrq",
        "outputId": "83f1652d-90a5-49e4-ed30-14ecbd5d3a88"
      },
      "execution_count": null,
      "outputs": [
        {
          "output_type": "execute_result",
          "data": {
            "text/plain": [
              "       Item_Weight  Item_Visibility     Item_MRP  Item_Outlet_Sales\n",
              "count  8523.000000      8523.000000  8523.000000        8523.000000\n",
              "mean     12.857890         0.066132   140.992782        2181.288914\n",
              "std       4.232804         0.051598    62.275067        1706.499616\n",
              "min       4.555000         0.000000    31.290000          33.290000\n",
              "25%       9.310000         0.026989    93.826500         834.247400\n",
              "50%      12.867061         0.053931   143.012800        1794.331000\n",
              "75%      16.000000         0.094585   185.643700        3101.296400\n",
              "max      21.350000         0.328391   266.888400       13086.964800"
            ],
            "text/html": [
              "\n",
              "  <div id=\"df-b7155ea4-00a2-4273-8088-be73036d14fb\">\n",
              "    <div class=\"colab-df-container\">\n",
              "      <div>\n",
              "<style scoped>\n",
              "    .dataframe tbody tr th:only-of-type {\n",
              "        vertical-align: middle;\n",
              "    }\n",
              "\n",
              "    .dataframe tbody tr th {\n",
              "        vertical-align: top;\n",
              "    }\n",
              "\n",
              "    .dataframe thead th {\n",
              "        text-align: right;\n",
              "    }\n",
              "</style>\n",
              "<table border=\"1\" class=\"dataframe\">\n",
              "  <thead>\n",
              "    <tr style=\"text-align: right;\">\n",
              "      <th></th>\n",
              "      <th>Item_Weight</th>\n",
              "      <th>Item_Visibility</th>\n",
              "      <th>Item_MRP</th>\n",
              "      <th>Item_Outlet_Sales</th>\n",
              "    </tr>\n",
              "  </thead>\n",
              "  <tbody>\n",
              "    <tr>\n",
              "      <th>count</th>\n",
              "      <td>8523.000000</td>\n",
              "      <td>8523.000000</td>\n",
              "      <td>8523.000000</td>\n",
              "      <td>8523.000000</td>\n",
              "    </tr>\n",
              "    <tr>\n",
              "      <th>mean</th>\n",
              "      <td>12.857890</td>\n",
              "      <td>0.066132</td>\n",
              "      <td>140.992782</td>\n",
              "      <td>2181.288914</td>\n",
              "    </tr>\n",
              "    <tr>\n",
              "      <th>std</th>\n",
              "      <td>4.232804</td>\n",
              "      <td>0.051598</td>\n",
              "      <td>62.275067</td>\n",
              "      <td>1706.499616</td>\n",
              "    </tr>\n",
              "    <tr>\n",
              "      <th>min</th>\n",
              "      <td>4.555000</td>\n",
              "      <td>0.000000</td>\n",
              "      <td>31.290000</td>\n",
              "      <td>33.290000</td>\n",
              "    </tr>\n",
              "    <tr>\n",
              "      <th>25%</th>\n",
              "      <td>9.310000</td>\n",
              "      <td>0.026989</td>\n",
              "      <td>93.826500</td>\n",
              "      <td>834.247400</td>\n",
              "    </tr>\n",
              "    <tr>\n",
              "      <th>50%</th>\n",
              "      <td>12.867061</td>\n",
              "      <td>0.053931</td>\n",
              "      <td>143.012800</td>\n",
              "      <td>1794.331000</td>\n",
              "    </tr>\n",
              "    <tr>\n",
              "      <th>75%</th>\n",
              "      <td>16.000000</td>\n",
              "      <td>0.094585</td>\n",
              "      <td>185.643700</td>\n",
              "      <td>3101.296400</td>\n",
              "    </tr>\n",
              "    <tr>\n",
              "      <th>max</th>\n",
              "      <td>21.350000</td>\n",
              "      <td>0.328391</td>\n",
              "      <td>266.888400</td>\n",
              "      <td>13086.964800</td>\n",
              "    </tr>\n",
              "  </tbody>\n",
              "</table>\n",
              "</div>\n",
              "      <button class=\"colab-df-convert\" onclick=\"convertToInteractive('df-b7155ea4-00a2-4273-8088-be73036d14fb')\"\n",
              "              title=\"Convert this dataframe to an interactive table.\"\n",
              "              style=\"display:none;\">\n",
              "        \n",
              "  <svg xmlns=\"http://www.w3.org/2000/svg\" height=\"24px\"viewBox=\"0 0 24 24\"\n",
              "       width=\"24px\">\n",
              "    <path d=\"M0 0h24v24H0V0z\" fill=\"none\"/>\n",
              "    <path d=\"M18.56 5.44l.94 2.06.94-2.06 2.06-.94-2.06-.94-.94-2.06-.94 2.06-2.06.94zm-11 1L8.5 8.5l.94-2.06 2.06-.94-2.06-.94L8.5 2.5l-.94 2.06-2.06.94zm10 10l.94 2.06.94-2.06 2.06-.94-2.06-.94-.94-2.06-.94 2.06-2.06.94z\"/><path d=\"M17.41 7.96l-1.37-1.37c-.4-.4-.92-.59-1.43-.59-.52 0-1.04.2-1.43.59L10.3 9.45l-7.72 7.72c-.78.78-.78 2.05 0 2.83L4 21.41c.39.39.9.59 1.41.59.51 0 1.02-.2 1.41-.59l7.78-7.78 2.81-2.81c.8-.78.8-2.07 0-2.86zM5.41 20L4 18.59l7.72-7.72 1.47 1.35L5.41 20z\"/>\n",
              "  </svg>\n",
              "      </button>\n",
              "      \n",
              "  <style>\n",
              "    .colab-df-container {\n",
              "      display:flex;\n",
              "      flex-wrap:wrap;\n",
              "      gap: 12px;\n",
              "    }\n",
              "\n",
              "    .colab-df-convert {\n",
              "      background-color: #E8F0FE;\n",
              "      border: none;\n",
              "      border-radius: 50%;\n",
              "      cursor: pointer;\n",
              "      display: none;\n",
              "      fill: #1967D2;\n",
              "      height: 32px;\n",
              "      padding: 0 0 0 0;\n",
              "      width: 32px;\n",
              "    }\n",
              "\n",
              "    .colab-df-convert:hover {\n",
              "      background-color: #E2EBFA;\n",
              "      box-shadow: 0px 1px 2px rgba(60, 64, 67, 0.3), 0px 1px 3px 1px rgba(60, 64, 67, 0.15);\n",
              "      fill: #174EA6;\n",
              "    }\n",
              "\n",
              "    [theme=dark] .colab-df-convert {\n",
              "      background-color: #3B4455;\n",
              "      fill: #D2E3FC;\n",
              "    }\n",
              "\n",
              "    [theme=dark] .colab-df-convert:hover {\n",
              "      background-color: #434B5C;\n",
              "      box-shadow: 0px 1px 3px 1px rgba(0, 0, 0, 0.15);\n",
              "      filter: drop-shadow(0px 1px 2px rgba(0, 0, 0, 0.3));\n",
              "      fill: #FFFFFF;\n",
              "    }\n",
              "  </style>\n",
              "\n",
              "      <script>\n",
              "        const buttonEl =\n",
              "          document.querySelector('#df-b7155ea4-00a2-4273-8088-be73036d14fb button.colab-df-convert');\n",
              "        buttonEl.style.display =\n",
              "          google.colab.kernel.accessAllowed ? 'block' : 'none';\n",
              "\n",
              "        async function convertToInteractive(key) {\n",
              "          const element = document.querySelector('#df-b7155ea4-00a2-4273-8088-be73036d14fb');\n",
              "          const dataTable =\n",
              "            await google.colab.kernel.invokeFunction('convertToInteractive',\n",
              "                                                     [key], {});\n",
              "          if (!dataTable) return;\n",
              "\n",
              "          const docLinkHtml = 'Like what you see? Visit the ' +\n",
              "            '<a target=\"_blank\" href=https://colab.research.google.com/notebooks/data_table.ipynb>data table notebook</a>'\n",
              "            + ' to learn more about interactive tables.';\n",
              "          element.innerHTML = '';\n",
              "          dataTable['output_type'] = 'display_data';\n",
              "          await google.colab.output.renderOutput(dataTable, element);\n",
              "          const docLink = document.createElement('div');\n",
              "          docLink.innerHTML = docLinkHtml;\n",
              "          element.appendChild(docLink);\n",
              "        }\n",
              "      </script>\n",
              "    </div>\n",
              "  </div>\n",
              "  "
            ]
          },
          "metadata": {},
          "execution_count": 26
        }
      ]
    },
    {
      "cell_type": "markdown",
      "source": [
        "# Using Pandas to do statistical analysis and help understand and explain our dataset "
      ],
      "metadata": {
        "id": "0gjwzXtk-S-k"
      }
    },
    {
      "cell_type": "markdown",
      "source": [
        "## Let us start by looking at our Numerical Variables"
      ],
      "metadata": {
        "id": "1DQORMpglnjR"
      }
    },
    {
      "cell_type": "code",
      "source": [
        "#Let us plot the Item_Weight column to understand the weight distribustion of the items\n",
        "fig, ax = plt.subplots(figsize=(10,5))\n",
        "\n",
        "## Plot histogram\n",
        "sns.histplot(data=df, x='Item_Weight', ax=ax)\n",
        "ax.set_title('Weight Distribution of the Items',\n",
        "             fontsize='xx-large',\n",
        "             fontweight='semibold');\n",
        "## Annotate mean \n",
        "mean_weight = df['Item_Weight'].mean()\n",
        "ax.axvline(mean_weight, color='red', ls=':', \n",
        "           label=f'Mean Weight = {round(mean_weight, 2)}');\n",
        "\n",
        "## Increasing Axis Label Font Sizes\n",
        "ax.set_xlabel(ax.xaxis.get_label().get_text(),\n",
        "              fontsize='x-large')\n",
        "ax.set_ylabel(ax.yaxis.get_label().get_text(),\n",
        "              fontsize='x-large')\n",
        "ax.legend();\n"
      ],
      "metadata": {
        "colab": {
          "base_uri": "https://localhost:8080/",
          "height": 358
        },
        "id": "MoW6KC6b7gyl",
        "outputId": "f1c1e72d-b63f-40a0-9d10-de35ab7847c6"
      },
      "execution_count": null,
      "outputs": [
        {
          "output_type": "display_data",
          "data": {
            "text/plain": [
              "<Figure size 720x360 with 1 Axes>"
            ],
            "image/png": "[encoded data removed]"
          },
          "metadata": {
            "needs_background": "light"
          }
        }
      ]
    },
    {
      "cell_type": "markdown",
      "source": [
        "From the above histogram, we can see that, most of the items have weight in range of 10-16. \n",
        "\n",
        "The Mean weight of the Items is 12.86\n",
        "\n"
      ],
      "metadata": {
        "id": "-y5X_c-AxY7I"
      }
    },
    {
      "cell_type": "markdown",
      "source": [
        "Source:\n",
        "https://towardsdatascience.com/a-complete-guide-to-plotting-categorical-variables-with-seaborn-bfe54db66bec \n"
      ],
      "metadata": {
        "id": "f8A88qSRmRD8"
      }
    },
    {
      "cell_type": "code",
      "source": [
        "##Use boxplot to understand the Items Outlet Sales at each outlet \n",
        "\n",
        "fig, ax = plt.subplots(figsize=(10,8))\n",
        "## Plot boxplot\n",
        "sns.boxplot(x='Outlet_Identifier',y='Item_Outlet_Sales',data=df, palette='rainbow')\n",
        "ax.set_title('SALES AT DIFFERENT OUTLETS', \n",
        "             fontfamily='serif',\n",
        "             fontsize='xx-large',\n",
        "             fontweight='semibold');\n",
        "## Increasing Axis Label Font Sizes\n",
        "ax.set_xlabel(ax.xaxis.get_label().get_text(),\n",
        "              fontsize='x-large')\n",
        "ax.set_ylabel(ax.yaxis.get_label().get_text(),\n",
        "              fontsize='x-large')\n",
        "\n",
        "## Make price_fmt using the StrMethodFormatter and the appropriate format code\n",
        "price_fmt = mpl.ticker.StrMethodFormatter('${x:,.0f}')\n",
        "\n",
        "## Now, use the ax.yaxis.set_major_formatter method \n",
        "ax.yaxis.set_major_formatter(price_fmt)\n",
        "# ax.xaxis.label()\n",
        "ax.legend();"
      ],
      "metadata": {
        "colab": {
          "base_uri": "https://localhost:8080/",
          "height": 537
        },
        "id": "z1vPhMnuuqJy",
        "outputId": "84126c14-8f54-4301-e60a-c8659f3782c5"
      },
      "execution_count": null,
      "outputs": [
        {
          "output_type": "stream",
          "name": "stderr",
          "text": [
            "No handles with labels found to put in legend.\n"
          ]
        },
        {
          "output_type": "display_data",
          "data": {
            "text/plain": [
              "<Figure size 720x576 with 1 Axes>"
            ],
            "image/png": "[encoded data removed]"
          },
          "metadata": {
            "needs_background": "light"
          }
        }
      ]
    },
    {
      "cell_type": "markdown",
      "source": [
        "This box plot shows us how each Outlet is performing with respect to its sales. We can see that outlet OUT027 is performing great in terms of Item_Outlet_Sales while OUT010 and OUT019 are performing poorly"
      ],
      "metadata": {
        "id": "7ZkK0FVpu7ZL"
      }
    },
    {
      "cell_type": "markdown",
      "source": [
        "### Let us look to see what kind of relationships we have amoung our numerical variables "
      ],
      "metadata": {
        "id": "0C5je0fXBDkK"
      }
    },
    {
      "cell_type": "code",
      "source": [
        "#Understanding correlations amoung our numeric variables\n",
        "corr = df.corr()\n",
        "sns.heatmap(corr, cmap = 'Blues',annot = True);"
      ],
      "metadata": {
        "id": "ngAzMQxx-R8D",
        "colab": {
          "base_uri": "https://localhost:8080/",
          "height": 349
        },
        "outputId": "d3c305c0-305d-4777-f388-f6eeee49cea0"
      },
      "execution_count": null,
      "outputs": [
        {
          "output_type": "display_data",
          "data": {
            "text/plain": [
              "<Figure size 432x288 with 2 Axes>"
            ],
            "image/png": "[encoded data removed]"
          },
          "metadata": {
            "needs_background": "light"
          }
        }
      ]
    },
    {
      "cell_type": "markdown",
      "source": [
        "From the above graph we can see that there is a moderate positive correlation between \n",
        "Item_MRP and Item_Outlet_Sales \n",
        "\n",
        "Since we will be predicting the Item_Outlet_Sales; it is good to know there is a positive correlation between Item_MRP and Item_Outlet_Sales "
      ],
      "metadata": {
        "id": "52_3Qp8T_VYk"
      }
    },
    {
      "cell_type": "markdown",
      "source": [
        "## Let us now look at our some of our Categorical Variables"
      ],
      "metadata": {
        "id": "JDieSSdtmCIV"
      }
    },
    {
      "cell_type": "markdown",
      "source": [
        "Source:\n",
        "https://datavizpyr.com/sort-bars-in-barplot-using-seaborn-in-python/\n",
        "\n",
        "https://stackabuse.com/seaborn-bar-plot-tutorial-and-examples/\n",
        "\n",
        "https://drawingfromdata.com/seaborn/matplotlib/visualization/rotate-axis-labels-matplotlib-seaborn.html"
      ],
      "metadata": {
        "id": "CtIO4BYBnq4h"
      }
    },
    {
      "cell_type": "markdown",
      "source": [
        "Let us look at overall sales at outlets by Location Type"
      ],
      "metadata": {
        "id": "MB3qciT5ELyZ"
      }
    },
    {
      "cell_type": "code",
      "source": [
        "#Using group by to see overall sales by Outlet Location Type\n",
        "SalesBy_TierType = df.groupby(['Outlet_Location_Type'])['Item_Outlet_Sales'].mean()\n",
        "SalesBy_TierType"
      ],
      "metadata": {
        "colab": {
          "base_uri": "https://localhost:8080/"
        },
        "id": "NFDE7kJf1uUU",
        "outputId": "666c84b4-d0d3-4bfc-bfeb-661391ac0a7a"
      },
      "execution_count": null,
      "outputs": [
        {
          "output_type": "execute_result",
          "data": {
            "text/plain": [
              "Outlet_Location_Type\n",
              "Tier 1    1876.909159\n",
              "Tier 2    2323.990559\n",
              "Tier 3    2279.627651\n",
              "Name: Item_Outlet_Sales, dtype: float64"
            ]
          },
          "metadata": {},
          "execution_count": 31
        }
      ]
    },
    {
      "cell_type": "code",
      "source": [
        "#Lets plot the above result\n",
        "fig, ax = plt.subplots(figsize=(10,8))\n",
        "SalesBy_TierType.plot(kind=\"bar\", color = 'skyblue');\n",
        "ax.set_title('Average Sales by Outlet Location Type', \n",
        "             fontfamily='serif',\n",
        "             fontsize='xx-large',\n",
        "             fontweight='semibold');\n",
        "             \n",
        "## Increasing Axis Label Font Sizes\n",
        "ax.set_xlabel('Outlet Location Type',\n",
        "              fontsize='x-large')\n",
        "ax.set_ylabel(\"Sales\",\n",
        "              fontsize='x-large')\n",
        "\n",
        "## Make price_fmt using the StrMethodFormatter and the appropriate format code\n",
        "price_fmt = mpl.ticker.StrMethodFormatter('${x:,.0f}')\n",
        "\n",
        "## Now, use the ax.yaxis.set_major_formatter method \n",
        "ax.yaxis.set_major_formatter(price_fmt)\n",
        "# ax.xaxis.label()\n",
        "ax.legend();"
      ],
      "metadata": {
        "colab": {
          "base_uri": "https://localhost:8080/",
          "height": 538
        },
        "id": "wJjf-DcwEmzZ",
        "outputId": "906ec264-1c85-4e90-e31d-410e27f3c9c9"
      },
      "execution_count": null,
      "outputs": [
        {
          "output_type": "display_data",
          "data": {
            "text/plain": [
              "<Figure size 720x576 with 1 Axes>"
            ],
            "image/png": "[encoded data removed]"
          },
          "metadata": {
            "needs_background": "light"
          }
        }
      ]
    },
    {
      "cell_type": "markdown",
      "source": [
        "We see that Tier 2 stores has the highest average Sales while Tier 1 has the lowest average sale, we will now try to understand what kind of outlets do these locations have"
      ],
      "metadata": {
        "id": "2MdCimOcAwoY"
      }
    },
    {
      "cell_type": "code",
      "source": [
        "# Lets see what type of outlets exist in each tier and their sales contribution\n",
        "SalesBy_OutletType = df.groupby(['Outlet_Location_Type','Outlet_Type'])['Item_Outlet_Sales'].mean()\n",
        "SalesBy_OutletType"
      ],
      "metadata": {
        "colab": {
          "base_uri": "https://localhost:8080/"
        },
        "id": "aPyX7H5uuJY2",
        "outputId": "013df8b9-3bd2-48ed-f44e-71cd4d388fbb"
      },
      "execution_count": null,
      "outputs": [
        {
          "output_type": "execute_result",
          "data": {
            "text/plain": [
              "Outlet_Location_Type  Outlet_Type      \n",
              "Tier 1                Grocery Store         340.329723\n",
              "                      Supermarket Type1    2313.099451\n",
              "Tier 2                Supermarket Type1    2323.990559\n",
              "Tier 3                Grocery Store         339.351662\n",
              "                      Supermarket Type1    2298.995256\n",
              "                      Supermarket Type2    1995.498739\n",
              "                      Supermarket Type3    3694.038558\n",
              "Name: Item_Outlet_Sales, dtype: float64"
            ]
          },
          "metadata": {},
          "execution_count": 35
        }
      ]
    },
    {
      "cell_type": "code",
      "source": [
        "##Lets plot the above result\n",
        "g = sns.catplot( x='Item_Outlet_Sales',y ='Outlet_Type', col = 'Outlet_Location_Type', ci = None, data=df, kind='bar',  palette='rainbow')\n",
        "g.set_axis_labels(\"Item_Outlet Sales\", \"Outlet_Type\", c= 'm')\n",
        "g.set_titles(\"Average Sales for {col_name} Outlet Type\", c= 'm');\n",
        "\n"
      ],
      "metadata": {
        "colab": {
          "base_uri": "https://localhost:8080/",
          "height": 369
        },
        "id": "VjPkhClJ7BSq",
        "outputId": "c7cea0d6-2ea0-4c6a-81b6-3850c6430bfc"
      },
      "execution_count": null,
      "outputs": [
        {
          "output_type": "display_data",
          "data": {
            "text/plain": [
              "<Figure size 1080x360 with 3 Axes>"
            ],
            "image/png": "[encoded data removed]"
          },
          "metadata": {
            "needs_background": "light"
          }
        }
      ]
    },
    {
      "cell_type": "markdown",
      "source": [
        "We see that Supermarket type 3 is doing the best which contributes to the overall sales in Tier 3. \n",
        "\n",
        "Supermarket Type 2 & 3 only exists in Tier 3 \n",
        "\n",
        "Supermarket Type 1 is the only type that exists in all 3 Tiers and contribute similar sales value to their Tiers \n",
        "\n",
        "Grocery Store exists in Tier 1 and Tier 3\n"
      ],
      "metadata": {
        "id": "-J2gcsky-kn3"
      }
    },
    {
      "cell_type": "markdown",
      "source": [
        "Source:\n",
        "https://datavizpyr.com/sort-bars-in-barplot-using-seaborn-in-python/\n",
        "\n",
        "https://stackabuse.com/seaborn-bar-plot-tutorial-and-examples/\n",
        "\n",
        "https://drawingfromdata.com/seaborn/matplotlib/visualization/rotate-axis-labels-matplotlib-seaborn.html\n",
        "\n",
        "https://stackoverflow.com/questions/26540035/rotate-label-text-in-seaborn-factorplot\n"
      ],
      "metadata": {
        "id": "jxcLFS-xpgPw"
      }
    },
    {
      "cell_type": "code",
      "source": [
        "# Let us now look at Sales by Item Type at different Outlets\n",
        "fig, ax = plt.subplots(figsize=(15, 13))\n",
        "sns.barplot( x='Item_Type', y = 'Item_Outlet_Sales', ci = None, hue = 'Outlet_Type' ,  data=df )\n",
        "ax.set_title('Average Sales by Item Type for different Outlet Types', \n",
        "             fontfamily='serif',\n",
        "             fontsize='xx-large',\n",
        "             fontweight='semibold');\n",
        "             \n",
        "## Increasing Axis Label Font Sizes\n",
        "ax.set_xlabel('Item Type',\n",
        "              fontsize='x-large')\n",
        "ax.set_ylabel(\"Sales\",\n",
        "              fontsize='x-large')\n",
        "## rotating labels\n",
        "labels = ax.get_xticklabels()\n",
        "plt.setp(labels, \n",
        "         rotation=45, \n",
        "         horizontalalignment='right')\n",
        "\n",
        "## Make price_fmt using the StrMethodFormatter and the appropriate format code\n",
        "price_fmt = mpl.ticker.StrMethodFormatter('${x:,.0f}')\n",
        "\n",
        "## Now, use the ax.yaxis.set_major_formatter method \n",
        "ax.yaxis.set_major_formatter(price_fmt)\n",
        "# ax.xaxis.label()\n",
        "ax.legend();"
      ],
      "metadata": {
        "colab": {
          "base_uri": "https://localhost:8080/",
          "height": 865
        },
        "id": "0Ct6L5AbFM0U",
        "outputId": "e1191543-1acf-45db-97a1-d08d6b91a422"
      },
      "execution_count": null,
      "outputs": [
        {
          "output_type": "display_data",
          "data": {
            "text/plain": [
              "<Figure size 1080x936 with 1 Axes>"
            ],
            "image/png": "[encoded data removed]"
          },
          "metadata": {
            "needs_background": "light"
          }
        }
      ]
    },
    {
      "cell_type": "markdown",
      "source": [
        "The above vizualization shows us the Sales of items by its Item_Type\n",
        "\n",
        "In Supermarket Type 1 Seafood and Starchy Food have highest sales \n",
        "\n",
        "In Supermarket Type 2 Seafood and Hard Drinks have highest sales \n",
        "\n",
        "Grocery Stores Breakfast and Meat item types have the hieghest sales\n",
        "\n",
        "In Supermarket Type 3 Breakfast and Fruits and Vegetables have highest sales"
      ],
      "metadata": {
        "id": "_7GAsJWxj74x"
      }
    },
    {
      "cell_type": "markdown",
      "source": [
        "Source: \n",
        "https://stackoverflow.com/questions/55104819/display-count-on-top-of-seaborn-barplot/68334380#68334380"
      ],
      "metadata": {
        "id": "MTwynA1aFjqf"
      }
    },
    {
      "cell_type": "code",
      "source": [
        "##Lets look at Item_Fat_Content by Outlet Type\n",
        "\n",
        "fig, ax = plt.subplots(figsize=(10, 8))\n",
        "graph =sns.countplot( x ='Outlet_Type',  data=df, hue = 'Item_Fat_Content' , palette='rainbow'); \n",
        "\n",
        "\n",
        "ax.set_title(' Count of Low Fat vs Regular Item', \n",
        "             fontfamily='serif',\n",
        "             fontsize='xx-large',\n",
        "             fontweight='semibold');\n",
        "\n",
        "## Lets get the \n",
        "\n",
        "for p in graph.patches:\n",
        "    height = p.get_height()\n",
        "    graph.text(p.get_x()+p.get_width()/2., height + 0.1,height ,ha=\"center\");\n",
        "\n",
        "## Increasing Axis Label Font Sizes\n",
        "ax.set_xlabel('Outlet Type',\n",
        "              fontsize='x-large', fontweight='semibold')\n",
        "ax.set_ylabel(\"Count\",\n",
        "              fontsize='x-large', fontweight='semibold')\n",
        "\n",
        "# ax.xaxis.label()\n",
        "ax.legend();"
      ],
      "metadata": {
        "colab": {
          "base_uri": "https://localhost:8080/",
          "height": 520
        },
        "id": "lF9wpltsFiqN",
        "outputId": "ecbefb25-664e-46c8-f391-a2c1c6ce24d7"
      },
      "execution_count": null,
      "outputs": [
        {
          "output_type": "display_data",
          "data": {
            "text/plain": [
              "<Figure size 720x576 with 1 Axes>"
            ],
            "image/png": "[encoded data removed]"
          },
          "metadata": {
            "needs_background": "light"
          }
        }
      ]
    },
    {
      "cell_type": "markdown",
      "source": [
        "We can see that all the outlets sell more Low Fat Items than Regular Items"
      ],
      "metadata": {
        "id": "z6nSzAKcFrL-"
      }
    },
    {
      "cell_type": "code",
      "source": [
        "#Lets look at Average Sales by Item Type\n",
        "SalesBy_ItemType = df.groupby(['Item_Type'])['Item_Outlet_Sales'].mean()\n",
        "SalesBy_ItemType"
      ],
      "metadata": {
        "colab": {
          "base_uri": "https://localhost:8080/"
        },
        "id": "3wtylgyzF2Di",
        "outputId": "7b11c963-23ba-4af8-efcb-4bfd1eab705b"
      },
      "execution_count": null,
      "outputs": [
        {
          "output_type": "execute_result",
          "data": {
            "text/plain": [
              "Item_Type\n",
              "Baking Goods             1952.971207\n",
              "Breads                   2204.132226\n",
              "Breakfast                2111.808651\n",
              "Canned                   2225.194904\n",
              "Dairy                    2232.542597\n",
              "Frozen Foods             2132.867744\n",
              "Fruits and Vegetables    2289.009592\n",
              "Hard Drinks              2139.221622\n",
              "Health and Hygiene       2010.000265\n",
              "Household                2258.784300\n",
              "Meat                     2158.977911\n",
              "Others                   1926.139702\n",
              "Seafood                  2326.065928\n",
              "Snack Foods              2277.321739\n",
              "Soft Drinks              2006.511735\n",
              "Starchy Foods            2374.332773\n",
              "Name: Item_Outlet_Sales, dtype: float64"
            ]
          },
          "metadata": {},
          "execution_count": 36
        }
      ]
    },
    {
      "cell_type": "markdown",
      "source": [
        "Let us look at the over all Top 3 Item Types (ie. Baking Goods, Breads & Breakfast)and see if their Item_MRP vary by Outlet Type"
      ],
      "metadata": {
        "id": "5LhXznABF_jY"
      }
    },
    {
      "cell_type": "code",
      "source": [
        "#Creating a new filter with Breakfast, Baking Goods and Bread Items only \n",
        "\n",
        "filter1 = ((df['Item_Type']=='Breakfast') | (df['Item_Type']== 'Baking Goods') | (df['Item_Type']=='Breads')) \n",
        "Top3 = df.loc[filter1, :]\n",
        "Top3.head()"
      ],
      "metadata": {
        "colab": {
          "base_uri": "https://localhost:8080/",
          "height": 337
        },
        "id": "DtAdDQfjF8gU",
        "outputId": "bc61c0b5-1ad7-4c5c-d357-178391ec398e"
      },
      "execution_count": null,
      "outputs": [
        {
          "output_type": "execute_result",
          "data": {
            "text/plain": [
              "   Item_Identifier  Item_Weight Item_Fat_Content  Item_Visibility  \\\n",
              "5            FDP36    10.395000          Regular         0.000000   \n",
              "15           FDP49     9.000000          Regular         0.069089   \n",
              "17           FDP49     9.000000          Regular         0.069196   \n",
              "21           FDW12    12.277108          Regular         0.035400   \n",
              "23           FDC37    12.277108          Low Fat         0.057557   \n",
              "\n",
              "       Item_Type  Item_MRP Outlet_Identifier Outlet_Establishment_Year  \\\n",
              "5   Baking Goods   51.4008            OUT018                      2009   \n",
              "15     Breakfast   56.3614            OUT046                      1997   \n",
              "17     Breakfast   54.3614            OUT049                      1999   \n",
              "21  Baking Goods  144.5444            OUT027                      1985   \n",
              "23  Baking Goods  107.6938            OUT019                      1985   \n",
              "\n",
              "   Outlet_Size Outlet_Location_Type        Outlet_Type  Item_Outlet_Sales  \n",
              "5       Medium               Tier 3  Supermarket Type2           556.6088  \n",
              "15       Small               Tier 1  Supermarket Type1          1547.3192  \n",
              "17      Medium               Tier 1  Supermarket Type1           718.3982  \n",
              "21      Medium               Tier 3  Supermarket Type3          4064.0432  \n",
              "23       Small               Tier 1      Grocery Store           214.3876  "
            ],
            "text/html": [
              "\n",
              "  <div id=\"df-bd70ee7e-2dd9-48bf-94b1-4ef9d3ec5701\">\n",
              "    <div class=\"colab-df-container\">\n",
              "      <div>\n",
              "<style scoped>\n",
              "    .dataframe tbody tr th:only-of-type {\n",
              "        vertical-align: middle;\n",
              "    }\n",
              "\n",
              "    .dataframe tbody tr th {\n",
              "        vertical-align: top;\n",
              "    }\n",
              "\n",
              "    .dataframe thead th {\n",
              "        text-align: right;\n",
              "    }\n",
              "</style>\n",
              "<table border=\"1\" class=\"dataframe\">\n",
              "  <thead>\n",
              "    <tr style=\"text-align: right;\">\n",
              "      <th></th>\n",
              "      <th>Item_Identifier</th>\n",
              "      <th>Item_Weight</th>\n",
              "      <th>Item_Fat_Content</th>\n",
              "      <th>Item_Visibility</th>\n",
              "      <th>Item_Type</th>\n",
              "      <th>Item_MRP</th>\n",
              "      <th>Outlet_Identifier</th>\n",
              "      <th>Outlet_Establishment_Year</th>\n",
              "      <th>Outlet_Size</th>\n",
              "      <th>Outlet_Location_Type</th>\n",
              "      <th>Outlet_Type</th>\n",
              "      <th>Item_Outlet_Sales</th>\n",
              "    </tr>\n",
              "  </thead>\n",
              "  <tbody>\n",
              "    <tr>\n",
              "      <th>5</th>\n",
              "      <td>FDP36</td>\n",
              "      <td>10.395000</td>\n",
              "      <td>Regular</td>\n",
              "      <td>0.000000</td>\n",
              "      <td>Baking Goods</td>\n",
              "      <td>51.4008</td>\n",
              "      <td>OUT018</td>\n",
              "      <td>2009</td>\n",
              "      <td>Medium</td>\n",
              "      <td>Tier 3</td>\n",
              "      <td>Supermarket Type2</td>\n",
              "      <td>556.6088</td>\n",
              "    </tr>\n",
              "    <tr>\n",
              "      <th>15</th>\n",
              "      <td>FDP49</td>\n",
              "      <td>9.000000</td>\n",
              "      <td>Regular</td>\n",
              "      <td>0.069089</td>\n",
              "      <td>Breakfast</td>\n",
              "      <td>56.3614</td>\n",
              "      <td>OUT046</td>\n",
              "      <td>1997</td>\n",
              "      <td>Small</td>\n",
              "      <td>Tier 1</td>\n",
              "      <td>Supermarket Type1</td>\n",
              "      <td>1547.3192</td>\n",
              "    </tr>\n",
              "    <tr>\n",
              "      <th>17</th>\n",
              "      <td>FDP49</td>\n",
              "      <td>9.000000</td>\n",
              "      <td>Regular</td>\n",
              "      <td>0.069196</td>\n",
              "      <td>Breakfast</td>\n",
              "      <td>54.3614</td>\n",
              "      <td>OUT049</td>\n",
              "      <td>1999</td>\n",
              "      <td>Medium</td>\n",
              "      <td>Tier 1</td>\n",
              "      <td>Supermarket Type1</td>\n",
              "      <td>718.3982</td>\n",
              "    </tr>\n",
              "    <tr>\n",
              "      <th>21</th>\n",
              "      <td>FDW12</td>\n",
              "      <td>12.277108</td>\n",
              "      <td>Regular</td>\n",
              "      <td>0.035400</td>\n",
              "      <td>Baking Goods</td>\n",
              "      <td>144.5444</td>\n",
              "      <td>OUT027</td>\n",
              "      <td>1985</td>\n",
              "      <td>Medium</td>\n",
              "      <td>Tier 3</td>\n",
              "      <td>Supermarket Type3</td>\n",
              "      <td>4064.0432</td>\n",
              "    </tr>\n",
              "    <tr>\n",
              "      <th>23</th>\n",
              "      <td>FDC37</td>\n",
              "      <td>12.277108</td>\n",
              "      <td>Low Fat</td>\n",
              "      <td>0.057557</td>\n",
              "      <td>Baking Goods</td>\n",
              "      <td>107.6938</td>\n",
              "      <td>OUT019</td>\n",
              "      <td>1985</td>\n",
              "      <td>Small</td>\n",
              "      <td>Tier 1</td>\n",
              "      <td>Grocery Store</td>\n",
              "      <td>214.3876</td>\n",
              "    </tr>\n",
              "  </tbody>\n",
              "</table>\n",
              "</div>\n",
              "      <button class=\"colab-df-convert\" onclick=\"convertToInteractive('df-bd70ee7e-2dd9-48bf-94b1-4ef9d3ec5701')\"\n",
              "              title=\"Convert this dataframe to an interactive table.\"\n",
              "              style=\"display:none;\">\n",
              "        \n",
              "  <svg xmlns=\"http://www.w3.org/2000/svg\" height=\"24px\"viewBox=\"0 0 24 24\"\n",
              "       width=\"24px\">\n",
              "    <path d=\"M0 0h24v24H0V0z\" fill=\"none\"/>\n",
              "    <path d=\"M18.56 5.44l.94 2.06.94-2.06 2.06-.94-2.06-.94-.94-2.06-.94 2.06-2.06.94zm-11 1L8.5 8.5l.94-2.06 2.06-.94-2.06-.94L8.5 2.5l-.94 2.06-2.06.94zm10 10l.94 2.06.94-2.06 2.06-.94-2.06-.94-.94-2.06-.94 2.06-2.06.94z\"/><path d=\"M17.41 7.96l-1.37-1.37c-.4-.4-.92-.59-1.43-.59-.52 0-1.04.2-1.43.59L10.3 9.45l-7.72 7.72c-.78.78-.78 2.05 0 2.83L4 21.41c.39.39.9.59 1.41.59.51 0 1.02-.2 1.41-.59l7.78-7.78 2.81-2.81c.8-.78.8-2.07 0-2.86zM5.41 20L4 18.59l7.72-7.72 1.47 1.35L5.41 20z\"/>\n",
              "  </svg>\n",
              "      </button>\n",
              "      \n",
              "  <style>\n",
              "    .colab-df-container {\n",
              "      display:flex;\n",
              "      flex-wrap:wrap;\n",
              "      gap: 12px;\n",
              "    }\n",
              "\n",
              "    .colab-df-convert {\n",
              "      background-color: #E8F0FE;\n",
              "      border: none;\n",
              "      border-radius: 50%;\n",
              "      cursor: pointer;\n",
              "      display: none;\n",
              "      fill: #1967D2;\n",
              "      height: 32px;\n",
              "      padding: 0 0 0 0;\n",
              "      width: 32px;\n",
              "    }\n",
              "\n",
              "    .colab-df-convert:hover {\n",
              "      background-color: #E2EBFA;\n",
              "      box-shadow: 0px 1px 2px rgba(60, 64, 67, 0.3), 0px 1px 3px 1px rgba(60, 64, 67, 0.15);\n",
              "      fill: #174EA6;\n",
              "    }\n",
              "\n",
              "    [theme=dark] .colab-df-convert {\n",
              "      background-color: #3B4455;\n",
              "      fill: #D2E3FC;\n",
              "    }\n",
              "\n",
              "    [theme=dark] .colab-df-convert:hover {\n",
              "      background-color: #434B5C;\n",
              "      box-shadow: 0px 1px 3px 1px rgba(0, 0, 0, 0.15);\n",
              "      filter: drop-shadow(0px 1px 2px rgba(0, 0, 0, 0.3));\n",
              "      fill: #FFFFFF;\n",
              "    }\n",
              "  </style>\n",
              "\n",
              "      <script>\n",
              "        const buttonEl =\n",
              "          document.querySelector('#df-bd70ee7e-2dd9-48bf-94b1-4ef9d3ec5701 button.colab-df-convert');\n",
              "        buttonEl.style.display =\n",
              "          google.colab.kernel.accessAllowed ? 'block' : 'none';\n",
              "\n",
              "        async function convertToInteractive(key) {\n",
              "          const element = document.querySelector('#df-bd70ee7e-2dd9-48bf-94b1-4ef9d3ec5701');\n",
              "          const dataTable =\n",
              "            await google.colab.kernel.invokeFunction('convertToInteractive',\n",
              "                                                     [key], {});\n",
              "          if (!dataTable) return;\n",
              "\n",
              "          const docLinkHtml = 'Like what you see? Visit the ' +\n",
              "            '<a target=\"_blank\" href=https://colab.research.google.com/notebooks/data_table.ipynb>data table notebook</a>'\n",
              "            + ' to learn more about interactive tables.';\n",
              "          element.innerHTML = '';\n",
              "          dataTable['output_type'] = 'display_data';\n",
              "          await google.colab.output.renderOutput(dataTable, element);\n",
              "          const docLink = document.createElement('div');\n",
              "          docLink.innerHTML = docLinkHtml;\n",
              "          element.appendChild(docLink);\n",
              "        }\n",
              "      </script>\n",
              "    </div>\n",
              "  </div>\n",
              "  "
            ]
          },
          "metadata": {},
          "execution_count": 37
        }
      ]
    },
    {
      "cell_type": "markdown",
      "source": [
        "Source: https://datavizpyr.com/show-mean-mark-on-boxplot-using-seaborn-in-python/\n"
      ],
      "metadata": {
        "id": "X04i9kVCGQGj"
      }
    },
    {
      "cell_type": "code",
      "source": [
        "##Use boxplot to understand the Items MRP at each outlet type\n",
        "\n",
        "fig, ax = plt.subplots(figsize=(15,8))\n",
        "## Plot boxplot\n",
        "sns.boxplot( x='Item_Type',  y ='Item_MRP' ,hue= 'Outlet_Type',  data=Top3,  palette='rainbow', showmeans=True,meanprops={\"marker\":\"o\",\n",
        "                       \"markerfacecolor\":\"white\", \n",
        "                       \"markeredgecolor\":\"black\",\n",
        "                      \"markersize\":\"10\"});\n",
        "\n",
        "ax.set_title('Item MRP at different outlets', \n",
        "             fontfamily='serif',\n",
        "             fontsize='xx-large',\n",
        "             fontweight='semibold');\n",
        "## Increasing Axis Label Font Sizes\n",
        "ax.set_xlabel(ax.xaxis.get_label().get_text(),\n",
        "              fontsize='x-large')\n",
        "ax.set_ylabel(ax.yaxis.get_label().get_text(),\n",
        "              fontsize='x-large')\n",
        "\n",
        "## Make price_fmt using the StrMethodFormatter and the appropriate format code\n",
        "price_fmt = mpl.ticker.StrMethodFormatter('${x:,.0f}')\n",
        "\n",
        "## Now, use the ax.yaxis.set_major_formatter method \n",
        "ax.yaxis.set_major_formatter(price_fmt)\n",
        "# ax.xaxis.label()\n",
        "ax.legend(loc='center left', bbox_to_anchor=(1, 0.5));"
      ],
      "metadata": {
        "colab": {
          "base_uri": "https://localhost:8080/",
          "height": 520
        },
        "id": "RGTBoL2TGJXv",
        "outputId": "bdfd4fe2-de76-41a5-b4df-2b6ff0874027"
      },
      "execution_count": null,
      "outputs": [
        {
          "output_type": "display_data",
          "data": {
            "text/plain": [
              "<Figure size 1080x576 with 1 Axes>"
            ],
            "image/png": "[encoded data removed]"
          },
          "metadata": {
            "needs_background": "light"
          }
        }
      ]
    },
    {
      "cell_type": "markdown",
      "source": [
        "From  the above visualization, we can see that,\n",
        "For Baking Goods:\n",
        "\n",
        "1.   For Baking Goods:\n",
        "*   The median price is the almost the same for Supermarket Type2, Supermaket Type 3 and Grocey Store\n",
        "*   The median price for Supermarket Type 1 is slightly lower than \n",
        "*   The mean price for Baking Goods across the different outlets is almost the same\n",
        "*   The mean price is higher than the median price for all outlet Types\n",
        "2.   For Breakfast Items:\n",
        "\n",
        "*   The median Breakfast item price Supermarket Type2 is much lower than the other outlets\n",
        "*   The median Breakfast item price for Supermarket Type 3 is higher than all other outlet types \n",
        "*   Supermarket Type 2 has the lowest mean price for Breakfast items while Supermarket Type3, Supermaket Type 1 and Grocey Store have similar mean price\n",
        "\n",
        "3.   For Bread Items:\n",
        "\n",
        "*   The median price for Bread across the different outlets is almost the same\n",
        "*   The mean Bread price for Supermarket Type 3 and Grocery store are similar and is higher than all other outlet types\n"
      ],
      "metadata": {
        "id": "wj6O_pj-GZof"
      }
    },
    {
      "cell_type": "markdown",
      "source": [
        "# Machine Learning"
      ],
      "metadata": {
        "id": "7QazkMLhTTwa"
      }
    },
    {
      "cell_type": "code",
      "source": [
        "# Importing ML libraries\n",
        "\n",
        "from sklearn.model_selection import train_test_split\n",
        "from sklearn.compose import make_column_selector, make_column_transformer\n",
        "from sklearn.preprocessing import StandardScaler, OneHotEncoder, \\\n",
        "OrdinalEncoder\n",
        "from sklearn.pipeline import make_pipeline\n",
        "from sklearn.impute import SimpleImputer\n",
        "from sklearn import set_config\n",
        "set_config(display='diagram')"
      ],
      "metadata": {
        "id": "m2e1ZDOAT5ru"
      },
      "execution_count": 40,
      "outputs": []
    },
    {
      "cell_type": "markdown",
      "source": [
        "### We will be using the copy if the original dataframe "
      ],
      "metadata": {
        "id": "HPlrbTQFTYaq"
      }
    },
    {
      "cell_type": "code",
      "source": [
        "# Looking at first 5 rows of the dataframe\n",
        "df_ml.head()"
      ],
      "metadata": {
        "colab": {
          "base_uri": "https://localhost:8080/",
          "height": 357
        },
        "id": "k7HjNScrlvN8",
        "outputId": "9a26fc5b-a91d-4065-bc98-3969d586eebc"
      },
      "execution_count": 41,
      "outputs": [
        {
          "output_type": "execute_result",
          "data": {
            "text/plain": [
              "  Item_Identifier  Item_Weight Item_Fat_Content  Item_Visibility  \\\n",
              "0           FDA15         9.30          Low Fat         0.016047   \n",
              "1           DRC01         5.92          Regular         0.019278   \n",
              "2           FDN15        17.50          Low Fat         0.016760   \n",
              "3           FDX07        19.20          Regular         0.000000   \n",
              "4           NCD19         8.93          Low Fat         0.000000   \n",
              "\n",
              "               Item_Type  Item_MRP Outlet_Identifier  \\\n",
              "0                  Dairy  249.8092            OUT049   \n",
              "1            Soft Drinks   48.2692            OUT018   \n",
              "2                   Meat  141.6180            OUT049   \n",
              "3  Fruits and Vegetables  182.0950            OUT010   \n",
              "4              Household   53.8614            OUT013   \n",
              "\n",
              "   Outlet_Establishment_Year Outlet_Size Outlet_Location_Type  \\\n",
              "0                       1999      Medium               Tier 1   \n",
              "1                       2009      Medium               Tier 3   \n",
              "2                       1999      Medium               Tier 1   \n",
              "3                       1998         NaN               Tier 3   \n",
              "4                       1987        High               Tier 3   \n",
              "\n",
              "         Outlet_Type  Item_Outlet_Sales  \n",
              "0  Supermarket Type1          3735.1380  \n",
              "1  Supermarket Type2           443.4228  \n",
              "2  Supermarket Type1          2097.2700  \n",
              "3      Grocery Store           732.3800  \n",
              "4  Supermarket Type1           994.7052  "
            ],
            "text/html": [
              "\n",
              "  <div id=\"df-9fa9277e-bc7f-4e10-9d49-5256a217ee10\">\n",
              "    <div class=\"colab-df-container\">\n",
              "      <div>\n",
              "<style scoped>\n",
              "    .dataframe tbody tr th:only-of-type {\n",
              "        vertical-align: middle;\n",
              "    }\n",
              "\n",
              "    .dataframe tbody tr th {\n",
              "        vertical-align: top;\n",
              "    }\n",
              "\n",
              "    .dataframe thead th {\n",
              "        text-align: right;\n",
              "    }\n",
              "</style>\n",
              "<table border=\"1\" class=\"dataframe\">\n",
              "  <thead>\n",
              "    <tr style=\"text-align: right;\">\n",
              "      <th></th>\n",
              "      <th>Item_Identifier</th>\n",
              "      <th>Item_Weight</th>\n",
              "      <th>Item_Fat_Content</th>\n",
              "      <th>Item_Visibility</th>\n",
              "      <th>Item_Type</th>\n",
              "      <th>Item_MRP</th>\n",
              "      <th>Outlet_Identifier</th>\n",
              "      <th>Outlet_Establishment_Year</th>\n",
              "      <th>Outlet_Size</th>\n",
              "      <th>Outlet_Location_Type</th>\n",
              "      <th>Outlet_Type</th>\n",
              "      <th>Item_Outlet_Sales</th>\n",
              "    </tr>\n",
              "  </thead>\n",
              "  <tbody>\n",
              "    <tr>\n",
              "      <th>0</th>\n",
              "      <td>FDA15</td>\n",
              "      <td>9.30</td>\n",
              "      <td>Low Fat</td>\n",
              "      <td>0.016047</td>\n",
              "      <td>Dairy</td>\n",
              "      <td>249.8092</td>\n",
              "      <td>OUT049</td>\n",
              "      <td>1999</td>\n",
              "      <td>Medium</td>\n",
              "      <td>Tier 1</td>\n",
              "      <td>Supermarket Type1</td>\n",
              "      <td>3735.1380</td>\n",
              "    </tr>\n",
              "    <tr>\n",
              "      <th>1</th>\n",
              "      <td>DRC01</td>\n",
              "      <td>5.92</td>\n",
              "      <td>Regular</td>\n",
              "      <td>0.019278</td>\n",
              "      <td>Soft Drinks</td>\n",
              "      <td>48.2692</td>\n",
              "      <td>OUT018</td>\n",
              "      <td>2009</td>\n",
              "      <td>Medium</td>\n",
              "      <td>Tier 3</td>\n",
              "      <td>Supermarket Type2</td>\n",
              "      <td>443.4228</td>\n",
              "    </tr>\n",
              "    <tr>\n",
              "      <th>2</th>\n",
              "      <td>FDN15</td>\n",
              "      <td>17.50</td>\n",
              "      <td>Low Fat</td>\n",
              "      <td>0.016760</td>\n",
              "      <td>Meat</td>\n",
              "      <td>141.6180</td>\n",
              "      <td>OUT049</td>\n",
              "      <td>1999</td>\n",
              "      <td>Medium</td>\n",
              "      <td>Tier 1</td>\n",
              "      <td>Supermarket Type1</td>\n",
              "      <td>2097.2700</td>\n",
              "    </tr>\n",
              "    <tr>\n",
              "      <th>3</th>\n",
              "      <td>FDX07</td>\n",
              "      <td>19.20</td>\n",
              "      <td>Regular</td>\n",
              "      <td>0.000000</td>\n",
              "      <td>Fruits and Vegetables</td>\n",
              "      <td>182.0950</td>\n",
              "      <td>OUT010</td>\n",
              "      <td>1998</td>\n",
              "      <td>NaN</td>\n",
              "      <td>Tier 3</td>\n",
              "      <td>Grocery Store</td>\n",
              "      <td>732.3800</td>\n",
              "    </tr>\n",
              "    <tr>\n",
              "      <th>4</th>\n",
              "      <td>NCD19</td>\n",
              "      <td>8.93</td>\n",
              "      <td>Low Fat</td>\n",
              "      <td>0.000000</td>\n",
              "      <td>Household</td>\n",
              "      <td>53.8614</td>\n",
              "      <td>OUT013</td>\n",
              "      <td>1987</td>\n",
              "      <td>High</td>\n",
              "      <td>Tier 3</td>\n",
              "      <td>Supermarket Type1</td>\n",
              "      <td>994.7052</td>\n",
              "    </tr>\n",
              "  </tbody>\n",
              "</table>\n",
              "</div>\n",
              "      <button class=\"colab-df-convert\" onclick=\"convertToInteractive('df-9fa9277e-bc7f-4e10-9d49-5256a217ee10')\"\n",
              "              title=\"Convert this dataframe to an interactive table.\"\n",
              "              style=\"display:none;\">\n",
              "        \n",
              "  <svg xmlns=\"http://www.w3.org/2000/svg\" height=\"24px\"viewBox=\"0 0 24 24\"\n",
              "       width=\"24px\">\n",
              "    <path d=\"M0 0h24v24H0V0z\" fill=\"none\"/>\n",
              "    <path d=\"M18.56 5.44l.94 2.06.94-2.06 2.06-.94-2.06-.94-.94-2.06-.94 2.06-2.06.94zm-11 1L8.5 8.5l.94-2.06 2.06-.94-2.06-.94L8.5 2.5l-.94 2.06-2.06.94zm10 10l.94 2.06.94-2.06 2.06-.94-2.06-.94-.94-2.06-.94 2.06-2.06.94z\"/><path d=\"M17.41 7.96l-1.37-1.37c-.4-.4-.92-.59-1.43-.59-.52 0-1.04.2-1.43.59L10.3 9.45l-7.72 7.72c-.78.78-.78 2.05 0 2.83L4 21.41c.39.39.9.59 1.41.59.51 0 1.02-.2 1.41-.59l7.78-7.78 2.81-2.81c.8-.78.8-2.07 0-2.86zM5.41 20L4 18.59l7.72-7.72 1.47 1.35L5.41 20z\"/>\n",
              "  </svg>\n",
              "      </button>\n",
              "      \n",
              "  <style>\n",
              "    .colab-df-container {\n",
              "      display:flex;\n",
              "      flex-wrap:wrap;\n",
              "      gap: 12px;\n",
              "    }\n",
              "\n",
              "    .colab-df-convert {\n",
              "      background-color: #E8F0FE;\n",
              "      border: none;\n",
              "      border-radius: 50%;\n",
              "      cursor: pointer;\n",
              "      display: none;\n",
              "      fill: #1967D2;\n",
              "      height: 32px;\n",
              "      padding: 0 0 0 0;\n",
              "      width: 32px;\n",
              "    }\n",
              "\n",
              "    .colab-df-convert:hover {\n",
              "      background-color: #E2EBFA;\n",
              "      box-shadow: 0px 1px 2px rgba(60, 64, 67, 0.3), 0px 1px 3px 1px rgba(60, 64, 67, 0.15);\n",
              "      fill: #174EA6;\n",
              "    }\n",
              "\n",
              "    [theme=dark] .colab-df-convert {\n",
              "      background-color: #3B4455;\n",
              "      fill: #D2E3FC;\n",
              "    }\n",
              "\n",
              "    [theme=dark] .colab-df-convert:hover {\n",
              "      background-color: #434B5C;\n",
              "      box-shadow: 0px 1px 3px 1px rgba(0, 0, 0, 0.15);\n",
              "      filter: drop-shadow(0px 1px 2px rgba(0, 0, 0, 0.3));\n",
              "      fill: #FFFFFF;\n",
              "    }\n",
              "  </style>\n",
              "\n",
              "      <script>\n",
              "        const buttonEl =\n",
              "          document.querySelector('#df-9fa9277e-bc7f-4e10-9d49-5256a217ee10 button.colab-df-convert');\n",
              "        buttonEl.style.display =\n",
              "          google.colab.kernel.accessAllowed ? 'block' : 'none';\n",
              "\n",
              "        async function convertToInteractive(key) {\n",
              "          const element = document.querySelector('#df-9fa9277e-bc7f-4e10-9d49-5256a217ee10');\n",
              "          const dataTable =\n",
              "            await google.colab.kernel.invokeFunction('convertToInteractive',\n",
              "                                                     [key], {});\n",
              "          if (!dataTable) return;\n",
              "\n",
              "          const docLinkHtml = 'Like what you see? Visit the ' +\n",
              "            '<a target=\"_blank\" href=https://colab.research.google.com/notebooks/data_table.ipynb>data table notebook</a>'\n",
              "            + ' to learn more about interactive tables.';\n",
              "          element.innerHTML = '';\n",
              "          dataTable['output_type'] = 'display_data';\n",
              "          await google.colab.output.renderOutput(dataTable, element);\n",
              "          const docLink = document.createElement('div');\n",
              "          docLink.innerHTML = docLinkHtml;\n",
              "          element.appendChild(docLink);\n",
              "        }\n",
              "      </script>\n",
              "    </div>\n",
              "  </div>\n",
              "  "
            ]
          },
          "metadata": {},
          "execution_count": 41
        }
      ]
    },
    {
      "cell_type": "markdown",
      "source": [
        "### Checking for duplicates and missing values"
      ],
      "metadata": {
        "id": "xmE0IZvBmdEc"
      }
    },
    {
      "cell_type": "code",
      "source": [
        "# Checking for duplicate values\n",
        "df_ml.duplicated().sum()"
      ],
      "metadata": {
        "colab": {
          "base_uri": "https://localhost:8080/"
        },
        "id": "bRr5APZami2_",
        "outputId": "656bc07e-6423-4565-85ff-c2a5a242ea0e"
      },
      "execution_count": 42,
      "outputs": [
        {
          "output_type": "execute_result",
          "data": {
            "text/plain": [
              "0"
            ]
          },
          "metadata": {},
          "execution_count": 42
        }
      ]
    },
    {
      "cell_type": "markdown",
      "source": [
        "No duplicate values so we keep exploring"
      ],
      "metadata": {
        "id": "-vMq2p6jmnNs"
      }
    },
    {
      "cell_type": "code",
      "source": [
        "#Understanding the datatypes of each column\n",
        "df_ml.dtypes"
      ],
      "metadata": {
        "colab": {
          "base_uri": "https://localhost:8080/"
        },
        "id": "ETjGdiiSmqjG",
        "outputId": "3d89f6dd-8597-46f3-a983-63c211790ade"
      },
      "execution_count": 43,
      "outputs": [
        {
          "output_type": "execute_result",
          "data": {
            "text/plain": [
              "Item_Identifier               object\n",
              "Item_Weight                  float64\n",
              "Item_Fat_Content              object\n",
              "Item_Visibility              float64\n",
              "Item_Type                     object\n",
              "Item_MRP                     float64\n",
              "Outlet_Identifier             object\n",
              "Outlet_Establishment_Year      int64\n",
              "Outlet_Size                   object\n",
              "Outlet_Location_Type          object\n",
              "Outlet_Type                   object\n",
              "Item_Outlet_Sales            float64\n",
              "dtype: object"
            ]
          },
          "metadata": {},
          "execution_count": 43
        }
      ]
    },
    {
      "cell_type": "code",
      "source": [
        "# change the data type of Outlet_Establishmnet_Year to string so we can use the year for analysis \n",
        "\n",
        "df_ml['Outlet_Establishment_Year'] = df_ml['Outlet_Establishment_Year'].astype(str)"
      ],
      "metadata": {
        "id": "ByUi_bidmwDZ"
      },
      "execution_count": 44,
      "outputs": []
    },
    {
      "cell_type": "code",
      "source": [
        "#Recheck the datatypes of each column\n",
        "df_ml.dtypes"
      ],
      "metadata": {
        "colab": {
          "base_uri": "https://localhost:8080/"
        },
        "id": "INHy5nMAnAmU",
        "outputId": "59c4e9c7-48ca-4509-df53-6dfb16d9c3da"
      },
      "execution_count": 45,
      "outputs": [
        {
          "output_type": "execute_result",
          "data": {
            "text/plain": [
              "Item_Identifier               object\n",
              "Item_Weight                  float64\n",
              "Item_Fat_Content              object\n",
              "Item_Visibility              float64\n",
              "Item_Type                     object\n",
              "Item_MRP                     float64\n",
              "Outlet_Identifier             object\n",
              "Outlet_Establishment_Year     object\n",
              "Outlet_Size                   object\n",
              "Outlet_Location_Type          object\n",
              "Outlet_Type                   object\n",
              "Item_Outlet_Sales            float64\n",
              "dtype: object"
            ]
          },
          "metadata": {},
          "execution_count": 45
        }
      ]
    },
    {
      "cell_type": "code",
      "source": [
        "#Checking for null values\n",
        "df_ml.isna().sum()"
      ],
      "metadata": {
        "colab": {
          "base_uri": "https://localhost:8080/"
        },
        "id": "udVmJCtrnG04",
        "outputId": "b4ba5158-c5e6-47bd-d540-14ccde968978"
      },
      "execution_count": 46,
      "outputs": [
        {
          "output_type": "execute_result",
          "data": {
            "text/plain": [
              "Item_Identifier                 0\n",
              "Item_Weight                  1463\n",
              "Item_Fat_Content                0\n",
              "Item_Visibility                 0\n",
              "Item_Type                       0\n",
              "Item_MRP                        0\n",
              "Outlet_Identifier               0\n",
              "Outlet_Establishment_Year       0\n",
              "Outlet_Size                  2410\n",
              "Outlet_Location_Type            0\n",
              "Outlet_Type                     0\n",
              "Item_Outlet_Sales               0\n",
              "dtype: int64"
            ]
          },
          "metadata": {},
          "execution_count": 46
        }
      ]
    },
    {
      "cell_type": "markdown",
      "source": [
        "As we can see Item_Weight and Outlet_Size has significant missing values so they cannot be dropped."
      ],
      "metadata": {
        "id": "gaCdrTbenqyP"
      }
    },
    {
      "cell_type": "markdown",
      "source": [
        "## Let us take a closer look at all the Categorical data columns"
      ],
      "metadata": {
        "id": "lSRNOhiGnyMo"
      }
    },
    {
      "cell_type": "code",
      "source": [
        "for col in df_ml.select_dtypes(include='object').columns:\n",
        "  display(df_ml[col].value_counts())\n",
        "  print('\\n')"
      ],
      "metadata": {
        "colab": {
          "base_uri": "https://localhost:8080/",
          "height": 1000
        },
        "id": "7mSvwrNDpBrJ",
        "outputId": "f3ddcf13-80d3-4d14-b99f-97db2320ec12"
      },
      "execution_count": 47,
      "outputs": [
        {
          "output_type": "display_data",
          "data": {
            "text/plain": [
              "FDW13    10\n",
              "FDG33    10\n",
              "NCY18     9\n",
              "FDD38     9\n",
              "DRE49     9\n",
              "         ..\n",
              "FDY43     1\n",
              "FDQ60     1\n",
              "FDO33     1\n",
              "DRF48     1\n",
              "FDC23     1\n",
              "Name: Item_Identifier, Length: 1559, dtype: int64"
            ]
          },
          "metadata": {}
        },
        {
          "output_type": "stream",
          "name": "stdout",
          "text": [
            "\n",
            "\n"
          ]
        },
        {
          "output_type": "display_data",
          "data": {
            "text/plain": [
              "Low Fat    5089\n",
              "Regular    2889\n",
              "LF          316\n",
              "reg         117\n",
              "low fat     112\n",
              "Name: Item_Fat_Content, dtype: int64"
            ]
          },
          "metadata": {}
        },
        {
          "output_type": "stream",
          "name": "stdout",
          "text": [
            "\n",
            "\n"
          ]
        },
        {
          "output_type": "display_data",
          "data": {
            "text/plain": [
              "Fruits and Vegetables    1232\n",
              "Snack Foods              1200\n",
              "Household                 910\n",
              "Frozen Foods              856\n",
              "Dairy                     682\n",
              "Canned                    649\n",
              "Baking Goods              648\n",
              "Health and Hygiene        520\n",
              "Soft Drinks               445\n",
              "Meat                      425\n",
              "Breads                    251\n",
              "Hard Drinks               214\n",
              "Others                    169\n",
              "Starchy Foods             148\n",
              "Breakfast                 110\n",
              "Seafood                    64\n",
              "Name: Item_Type, dtype: int64"
            ]
          },
          "metadata": {}
        },
        {
          "output_type": "stream",
          "name": "stdout",
          "text": [
            "\n",
            "\n"
          ]
        },
        {
          "output_type": "display_data",
          "data": {
            "text/plain": [
              "OUT027    935\n",
              "OUT013    932\n",
              "OUT049    930\n",
              "OUT046    930\n",
              "OUT035    930\n",
              "OUT045    929\n",
              "OUT018    928\n",
              "OUT017    926\n",
              "OUT010    555\n",
              "OUT019    528\n",
              "Name: Outlet_Identifier, dtype: int64"
            ]
          },
          "metadata": {}
        },
        {
          "output_type": "stream",
          "name": "stdout",
          "text": [
            "\n",
            "\n"
          ]
        },
        {
          "output_type": "display_data",
          "data": {
            "text/plain": [
              "1985    1463\n",
              "1987     932\n",
              "1999     930\n",
              "1997     930\n",
              "2004     930\n",
              "2002     929\n",
              "2009     928\n",
              "2007     926\n",
              "1998     555\n",
              "Name: Outlet_Establishment_Year, dtype: int64"
            ]
          },
          "metadata": {}
        },
        {
          "output_type": "stream",
          "name": "stdout",
          "text": [
            "\n",
            "\n"
          ]
        },
        {
          "output_type": "display_data",
          "data": {
            "text/plain": [
              "Medium    2793\n",
              "Small     2388\n",
              "High       932\n",
              "Name: Outlet_Size, dtype: int64"
            ]
          },
          "metadata": {}
        },
        {
          "output_type": "stream",
          "name": "stdout",
          "text": [
            "\n",
            "\n"
          ]
        },
        {
          "output_type": "display_data",
          "data": {
            "text/plain": [
              "Tier 3    3350\n",
              "Tier 2    2785\n",
              "Tier 1    2388\n",
              "Name: Outlet_Location_Type, dtype: int64"
            ]
          },
          "metadata": {}
        },
        {
          "output_type": "stream",
          "name": "stdout",
          "text": [
            "\n",
            "\n"
          ]
        },
        {
          "output_type": "display_data",
          "data": {
            "text/plain": [
              "Supermarket Type1    5577\n",
              "Grocery Store        1083\n",
              "Supermarket Type3     935\n",
              "Supermarket Type2     928\n",
              "Name: Outlet_Type, dtype: int64"
            ]
          },
          "metadata": {}
        },
        {
          "output_type": "stream",
          "name": "stdout",
          "text": [
            "\n",
            "\n"
          ]
        }
      ]
    },
    {
      "cell_type": "markdown",
      "source": [
        "Lets clean some on the columns before splitting\n",
        "\n",
        "1) Item_Fat_Content column"
      ],
      "metadata": {
        "id": "S7dDUakLn2Fq"
      }
    },
    {
      "cell_type": "code",
      "source": [
        "df_ml['Item_Fat_Content'].value_counts()"
      ],
      "metadata": {
        "colab": {
          "base_uri": "https://localhost:8080/"
        },
        "id": "NGG9i6T1n5gk",
        "outputId": "06d7aeb7-81d6-4aaa-85de-af26575dce26"
      },
      "execution_count": 48,
      "outputs": [
        {
          "output_type": "execute_result",
          "data": {
            "text/plain": [
              "Low Fat    5089\n",
              "Regular    2889\n",
              "LF          316\n",
              "reg         117\n",
              "low fat     112\n",
              "Name: Item_Fat_Content, dtype: int64"
            ]
          },
          "metadata": {},
          "execution_count": 48
        }
      ]
    },
    {
      "cell_type": "markdown",
      "source": [
        "As we can see above, we have some inconsistency in category names and should be fixed before training the data "
      ],
      "metadata": {
        "id": "n5S9_sKWoQ5V"
      }
    },
    {
      "cell_type": "code",
      "source": [
        "# Replacing 'LF' with 'Low Fat'\n",
        "df_ml['Item_Fat_Content'] = df_ml['Item_Fat_Content'].replace('LF', 'Low Fat')\n",
        "# Replacing 'low fat' with 'Low Fat'\n",
        "df_ml['Item_Fat_Content'] = df_ml['Item_Fat_Content'].replace('low fat', 'Low Fat')\n",
        "# Replacing 'regular' with 'Regular'\n",
        "df_ml['Item_Fat_Content'] = df_ml['Item_Fat_Content'].replace('reg', 'Regular')"
      ],
      "metadata": {
        "id": "eRSvxjFWn-oH"
      },
      "execution_count": 49,
      "outputs": []
    },
    {
      "cell_type": "code",
      "source": [
        "# Lets look at the value count once again\n",
        "df_ml['Item_Fat_Content'].value_counts()"
      ],
      "metadata": {
        "colab": {
          "base_uri": "https://localhost:8080/"
        },
        "id": "pLdyXOXloUQN",
        "outputId": "02b53dee-775d-4462-c191-06bf05f544f0"
      },
      "execution_count": 50,
      "outputs": [
        {
          "output_type": "execute_result",
          "data": {
            "text/plain": [
              "Low Fat    5517\n",
              "Regular    3006\n",
              "Name: Item_Fat_Content, dtype: int64"
            ]
          },
          "metadata": {},
          "execution_count": 50
        }
      ]
    },
    {
      "cell_type": "markdown",
      "source": [
        "# Splitting the Dataset"
      ],
      "metadata": {
        "id": "TzEJRbVSs_pw"
      }
    },
    {
      "cell_type": "markdown",
      "source": [
        "We drop columns 'Item_Identifier' and 'Outlet_Identifier' as they dont provide much information"
      ],
      "metadata": {
        "id": "JTez1GvBtbpz"
      }
    },
    {
      "cell_type": "code",
      "source": [
        "# Define features (X) and target (y)\n",
        "X = df_ml.drop(['Item_Identifier','Outlet_Identifier','Item_Outlet_Sales'], axis=1)\n",
        "y = df_ml['Item_Outlet_Sales']"
      ],
      "metadata": {
        "id": "Ax8Zpm5ptAmG"
      },
      "execution_count": 34,
      "outputs": []
    },
    {
      "cell_type": "code",
      "source": [
        "# Train test split the data to prepare for machine learning.\n",
        "X_train, X_test, y_train, y_test = train_test_split(X, y, random_state=42)"
      ],
      "metadata": {
        "id": "Sv8TAqXMtxEr"
      },
      "execution_count": 35,
      "outputs": []
    },
    {
      "cell_type": "markdown",
      "source": [
        "# Understanding the feature data types :"
      ],
      "metadata": {
        "id": "T8lTnBQ0rYIP"
      }
    },
    {
      "cell_type": "markdown",
      "source": [
        "**We will scale the numeric columns:**\n",
        "Item_Weight, Item_Visibility, Item_MRP \n",
        "\n",
        "\n",
        "**We will encode NominalFeatures with the OneHotEncoder:**\n",
        "Item_Fat_Content, Item_Type, Outlet_Type\n",
        "\n",
        "**We will encode the Ordinal Feature with the OrdinalEncoder:**\n",
        "Outlet_Size, Outlet_Location_Type, Outlet_Establishment_Year\n",
        "\n"
      ],
      "metadata": {
        "id": "K0Y5kQPSuT4d"
      }
    },
    {
      "cell_type": "markdown",
      "source": [
        "# Instantiate Transformers"
      ],
      "metadata": {
        "id": "pPLYYt4Vt5f_"
      }
    },
    {
      "cell_type": "code",
      "source": [
        "# Imputers\n",
        "mean_imputer = SimpleImputer(strategy='mean')\n",
        "most_frequent_imputer = SimpleImputer(strategy='most_frequent')\n",
        "constant_imputer = SimpleImputer(strategy='constant', fill_value='missing')\n",
        "\n",
        "# Scaler\n",
        "scaler = StandardScaler()\n",
        "\n",
        "# One-hot encoder\n",
        "ohe = OneHotEncoder(handle_unknown='ignore', sparse=False)"
      ],
      "metadata": {
        "id": "bRwuNmgqw4go"
      },
      "execution_count": 21,
      "outputs": []
    },
    {
      "cell_type": "markdown",
      "source": [
        "# Ordinal Encoder"
      ],
      "metadata": {
        "id": "uKxAEQeBFol9"
      }
    },
    {
      "cell_type": "markdown",
      "source": [
        "Ordinal encoder needs a list of ordered labels to know how to encode each ordinal category."
      ],
      "metadata": {
        "id": "w2aySmFiFp-V"
      }
    },
    {
      "cell_type": "code",
      "source": [
        "Outlet_Size_labels = ['Small','Medium','High']\n",
        "Outlet_Location_Type_labels = ['Tier 1', 'Tier 2','Tier 3']\n",
        "Outlet_Establishment_Year_labels = ['1985', '1987','1997','1998','1999','2002','2004','2007','2009']\n",
        "#ordered_labels = [Outlet_Size_labels]\n",
        "ordered_labels = [Outlet_Size_labels, Outlet_Location_Type_labels,Outlet_Establishment_Year_labels]\n",
        "\n",
        "ordinal = OrdinalEncoder(categories=ordered_labels)"
      ],
      "metadata": {
        "id": "wfQdtjxw_9j3"
      },
      "execution_count": 52,
      "outputs": []
    },
    {
      "cell_type": "markdown",
      "source": [
        "# Create a Pipeline for Numeric, Ordinal and Nominal Data,"
      ],
      "metadata": {
        "id": "Arh4uGdpFwdC"
      }
    },
    {
      "cell_type": "code",
      "source": [
        "# Numeric pipeline\n",
        "number_pipe = make_pipeline(mean_imputer, scaler)\n",
        "\n",
        "# Ordinal pipeline\n",
        "ordinal_pipe = make_pipeline(most_frequent_imputer, ordinal)\n",
        "\n",
        "# Nominal pipeline\n",
        "nominal_pipe = make_pipeline(constant_imputer, ohe)"
      ],
      "metadata": {
        "id": "GtRstrlfAOag"
      },
      "execution_count": 53,
      "outputs": []
    },
    {
      "cell_type": "markdown",
      "source": [
        "# Creating Columns Selectors"
      ],
      "metadata": {
        "id": "3m34do1nF9_L"
      }
    },
    {
      "cell_type": "code",
      "source": [
        "#We will use lists of column names for the ordinal and nominal columns instead of selectors.\n",
        "num_selector = make_column_selector(dtype_include='number')\n",
        "nom_cols = ['Item_Fat_Content','Item_Type','Outlet_Type']\n",
        "ord_cols = ['Outlet_Size', 'Outlet_Location_Type', 'Outlet_Establishment_Year']\n"
      ],
      "metadata": {
        "id": "hq7iHiaTAjXP"
      },
      "execution_count": 54,
      "outputs": []
    },
    {
      "cell_type": "markdown",
      "source": [
        "# Creating Tuples "
      ],
      "metadata": {
        "id": "x5x_QMsHGMdj"
      }
    },
    {
      "cell_type": "code",
      "source": [
        "# Creating Tuples for Column Transformer\n",
        "number_tuple = (number_pipe, num_selector)\n",
        "nominal_tuple = (nominal_pipe, nom_cols)\n",
        "ordinal_tuple = (ordinal_pipe, ord_cols)"
      ],
      "metadata": {
        "id": "GYQuncQdDGdZ"
      },
      "execution_count": null,
      "outputs": []
    },
    {
      "cell_type": "markdown",
      "source": [
        "Create Column Transformer to Apply Different Preprocessing to Different Columns"
      ],
      "metadata": {
        "id": "cWgAuOza04K0"
      }
    },
    {
      "cell_type": "code",
      "source": [
        "# ColumnTransformer\n",
        "preprocessor = make_column_transformer(ordinal_tuple,nominal_tuple,number_tuple)\n",
        "preprocessor"
      ],
      "metadata": {
        "colab": {
          "base_uri": "https://localhost:8080/",
          "height": 152
        },
        "id": "RMTwB2y8BeS_",
        "outputId": "b5ed9ad3-2d77-4801-93e3-5cdf12decc68"
      },
      "execution_count": 55,
      "outputs": [
        {
          "output_type": "execute_result",
          "data": {
            "text/plain": [
              "ColumnTransformer(transformers=[('pipeline-1',\n",
              "                                 Pipeline(steps=[('simpleimputer',\n",
              "                                                  SimpleImputer(strategy='most_frequent')),\n",
              "                                                 ('ordinalencoder',\n",
              "                                                  OrdinalEncoder(categories=[['Small',\n",
              "                                                                              'Medium',\n",
              "                                                                              'High'],\n",
              "                                                                             ['Tier '\n",
              "                                                                              '1',\n",
              "                                                                              'Tier '\n",
              "                                                                              '2',\n",
              "                                                                              'Tier '\n",
              "                                                                              '3'],\n",
              "                                                                             ['1985',\n",
              "                                                                              '1987',\n",
              "                                                                              '1997',\n",
              "                                                                              '1998',\n",
              "                                                                              '1999',\n",
              "                                                                              '2002',\n",
              "                                                                              '2004',\n",
              "                                                                              '2007',\n",
              "                                                                              '2009']]))]),\n",
              "                                 ['Outlet_Size', 'Outlet_Location_Type',\n",
              "                                  'Outlet_Establishme...\n",
              "                                                  SimpleImputer(fill_value='missing',\n",
              "                                                                strategy='constant')),\n",
              "                                                 ('onehotencoder',\n",
              "                                                  OneHotEncoder(handle_unknown='ignore',\n",
              "                                                                sparse=False))]),\n",
              "                                 ['Item_Fat_Content', 'Item_Type',\n",
              "                                  'Outlet_Type']),\n",
              "                                ('pipeline-3',\n",
              "                                 Pipeline(steps=[('simpleimputer',\n",
              "                                                  SimpleImputer()),\n",
              "                                                 ('standardscaler',\n",
              "                                                  StandardScaler())]),\n",
              "                                 <sklearn.compose._column_transformer.make_column_selector object at 0x7f70d0fb3a50>)])"
            ],
            "text/html": [
              "<style>#sk-6dcf662b-fd33-444a-a9d9-1500d5f296a3 {color: black;background-color: white;}#sk-6dcf662b-fd33-444a-a9d9-1500d5f296a3 pre{padding: 0;}#sk-6dcf662b-fd33-444a-a9d9-1500d5f296a3 div.sk-toggleable {background-color: white;}#sk-6dcf662b-fd33-444a-a9d9-1500d5f296a3 label.sk-toggleable__label {cursor: pointer;display: block;width: 100%;margin-bottom: 0;padding: 0.3em;box-sizing: border-box;text-align: center;}#sk-6dcf662b-fd33-444a-a9d9-1500d5f296a3 label.sk-toggleable__label-arrow:before {content: \"▸\";float: left;margin-right: 0.25em;color: #696969;}#sk-6dcf662b-fd33-444a-a9d9-1500d5f296a3 label.sk-toggleable__label-arrow:hover:before {color: black;}#sk-6dcf662b-fd33-444a-a9d9-1500d5f296a3 div.sk-estimator:hover label.sk-toggleable__label-arrow:before {color: black;}#sk-6dcf662b-fd33-444a-a9d9-1500d5f296a3 div.sk-toggleable__content {max-height: 0;max-width: 0;overflow: hidden;text-align: left;background-color: #f0f8ff;}#sk-6dcf662b-fd33-444a-a9d9-1500d5f296a3 div.sk-toggleable__content pre {margin: 0.2em;color: black;border-radius: 0.25em;background-color: #f0f8ff;}#sk-6dcf662b-fd33-444a-a9d9-1500d5f296a3 input.sk-toggleable__control:checked~div.sk-toggleable__content {max-height: 200px;max-width: 100%;overflow: auto;}#sk-6dcf662b-fd33-444a-a9d9-1500d5f296a3 input.sk-toggleable__control:checked~label.sk-toggleable__label-arrow:before {content: \"▾\";}#sk-6dcf662b-fd33-444a-a9d9-1500d5f296a3 div.sk-estimator input.sk-toggleable__control:checked~label.sk-toggleable__label {background-color: #d4ebff;}#sk-6dcf662b-fd33-444a-a9d9-1500d5f296a3 div.sk-label input.sk-toggleable__control:checked~label.sk-toggleable__label {background-color: #d4ebff;}#sk-6dcf662b-fd33-444a-a9d9-1500d5f296a3 input.sk-hidden--visually {border: 0;clip: rect(1px 1px 1px 1px);clip: rect(1px, 1px, 1px, 1px);height: 1px;margin: -1px;overflow: hidden;padding: 0;position: absolute;width: 1px;}#sk-6dcf662b-fd33-444a-a9d9-1500d5f296a3 div.sk-estimator {font-family: monospace;background-color: #f0f8ff;border: 1px dotted black;border-radius: 0.25em;box-sizing: border-box;margin-bottom: 0.5em;}#sk-6dcf662b-fd33-444a-a9d9-1500d5f296a3 div.sk-estimator:hover {background-color: #d4ebff;}#sk-6dcf662b-fd33-444a-a9d9-1500d5f296a3 div.sk-parallel-item::after {content: \"\";width: 100%;border-bottom: 1px solid gray;flex-grow: 1;}#sk-6dcf662b-fd33-444a-a9d9-1500d5f296a3 div.sk-label:hover label.sk-toggleable__label {background-color: #d4ebff;}#sk-6dcf662b-fd33-444a-a9d9-1500d5f296a3 div.sk-serial::before {content: \"\";position: absolute;border-left: 1px solid gray;box-sizing: border-box;top: 2em;bottom: 0;left: 50%;}#sk-6dcf662b-fd33-444a-a9d9-1500d5f296a3 div.sk-serial {display: flex;flex-direction: column;align-items: center;background-color: white;padding-right: 0.2em;padding-left: 0.2em;}#sk-6dcf662b-fd33-444a-a9d9-1500d5f296a3 div.sk-item {z-index: 1;}#sk-6dcf662b-fd33-444a-a9d9-1500d5f296a3 div.sk-parallel {display: flex;align-items: stretch;justify-content: center;background-color: white;}#sk-6dcf662b-fd33-444a-a9d9-1500d5f296a3 div.sk-parallel::before {content: \"\";position: absolute;border-left: 1px solid gray;box-sizing: border-box;top: 2em;bottom: 0;left: 50%;}#sk-6dcf662b-fd33-444a-a9d9-1500d5f296a3 div.sk-parallel-item {display: flex;flex-direction: column;position: relative;background-color: white;}#sk-6dcf662b-fd33-444a-a9d9-1500d5f296a3 div.sk-parallel-item:first-child::after {align-self: flex-end;width: 50%;}#sk-6dcf662b-fd33-444a-a9d9-1500d5f296a3 div.sk-parallel-item:last-child::after {align-self: flex-start;width: 50%;}#sk-6dcf662b-fd33-444a-a9d9-1500d5f296a3 div.sk-parallel-item:only-child::after {width: 0;}#sk-6dcf662b-fd33-444a-a9d9-1500d5f296a3 div.sk-dashed-wrapped {border: 1px dashed gray;margin: 0 0.4em 0.5em 0.4em;box-sizing: border-box;padding-bottom: 0.4em;background-color: white;position: relative;}#sk-6dcf662b-fd33-444a-a9d9-1500d5f296a3 div.sk-label label {font-family: monospace;font-weight: bold;background-color: white;display: inline-block;line-height: 1.2em;}#sk-6dcf662b-fd33-444a-a9d9-1500d5f296a3 div.sk-label-container {position: relative;z-index: 2;text-align: center;}#sk-6dcf662b-fd33-444a-a9d9-1500d5f296a3 div.sk-container {/* jupyter's `normalize.less` sets `[hidden] { display: none; }` but bootstrap.min.css set `[hidden] { display: none !important; }` so we also need the `!important` here to be able to override the default hidden behavior on the sphinx rendered scikit-learn.org. See: https://github.com/scikit-learn/scikit-learn/issues/21755 */display: inline-block !important;position: relative;}#sk-6dcf662b-fd33-444a-a9d9-1500d5f296a3 div.sk-text-repr-fallback {display: none;}</style><div id=\"sk-6dcf662b-fd33-444a-a9d9-1500d5f296a3\" class=\"sk-top-container\"><div class=\"sk-text-repr-fallback\"><pre>ColumnTransformer(transformers=[(&#x27;pipeline-1&#x27;,\n",
              "                                 Pipeline(steps=[(&#x27;simpleimputer&#x27;,\n",
              "                                                  SimpleImputer(strategy=&#x27;most_frequent&#x27;)),\n",
              "                                                 (&#x27;ordinalencoder&#x27;,\n",
              "                                                  OrdinalEncoder(categories=[[&#x27;Small&#x27;,\n",
              "                                                                              &#x27;Medium&#x27;,\n",
              "                                                                              &#x27;High&#x27;],\n",
              "                                                                             [&#x27;Tier &#x27;\n",
              "                                                                              &#x27;1&#x27;,\n",
              "                                                                              &#x27;Tier &#x27;\n",
              "                                                                              &#x27;2&#x27;,\n",
              "                                                                              &#x27;Tier &#x27;\n",
              "                                                                              &#x27;3&#x27;],\n",
              "                                                                             [&#x27;1985&#x27;,\n",
              "                                                                              &#x27;1987&#x27;,\n",
              "                                                                              &#x27;1997&#x27;,\n",
              "                                                                              &#x27;1998&#x27;,\n",
              "                                                                              &#x27;1999&#x27;,\n",
              "                                                                              &#x27;2002&#x27;,\n",
              "                                                                              &#x27;2004&#x27;,\n",
              "                                                                              &#x27;2007&#x27;,\n",
              "                                                                              &#x27;2009&#x27;]]))]),\n",
              "                                 [&#x27;Outlet_Size&#x27;, &#x27;Outlet_Location_Type&#x27;,\n",
              "                                  &#x27;Outlet_Establishme...\n",
              "                                                  SimpleImputer(fill_value=&#x27;missing&#x27;,\n",
              "                                                                strategy=&#x27;constant&#x27;)),\n",
              "                                                 (&#x27;onehotencoder&#x27;,\n",
              "                                                  OneHotEncoder(handle_unknown=&#x27;ignore&#x27;,\n",
              "                                                                sparse=False))]),\n",
              "                                 [&#x27;Item_Fat_Content&#x27;, &#x27;Item_Type&#x27;,\n",
              "                                  &#x27;Outlet_Type&#x27;]),\n",
              "                                (&#x27;pipeline-3&#x27;,\n",
              "                                 Pipeline(steps=[(&#x27;simpleimputer&#x27;,\n",
              "                                                  SimpleImputer()),\n",
              "                                                 (&#x27;standardscaler&#x27;,\n",
              "                                                  StandardScaler())]),\n",
              "                                 &lt;sklearn.compose._column_transformer.make_column_selector object at 0x7f70d0fb3a50&gt;)])</pre><b>Please rerun this cell to show the HTML repr or trust the notebook.</b></div><div class=\"sk-container\" hidden><div class=\"sk-item sk-dashed-wrapped\"><div class=\"sk-label-container\"><div class=\"sk-label sk-toggleable\"><input class=\"sk-toggleable__control sk-hidden--visually\" id=\"1d793969-c54a-4d29-b07b-58ecc9aceb2c\" type=\"checkbox\" ><label for=\"1d793969-c54a-4d29-b07b-58ecc9aceb2c\" class=\"sk-toggleable__label sk-toggleable__label-arrow\">ColumnTransformer</label><div class=\"sk-toggleable__content\"><pre>ColumnTransformer(transformers=[(&#x27;pipeline-1&#x27;,\n",
              "                                 Pipeline(steps=[(&#x27;simpleimputer&#x27;,\n",
              "                                                  SimpleImputer(strategy=&#x27;most_frequent&#x27;)),\n",
              "                                                 (&#x27;ordinalencoder&#x27;,\n",
              "                                                  OrdinalEncoder(categories=[[&#x27;Small&#x27;,\n",
              "                                                                              &#x27;Medium&#x27;,\n",
              "                                                                              &#x27;High&#x27;],\n",
              "                                                                             [&#x27;Tier &#x27;\n",
              "                                                                              &#x27;1&#x27;,\n",
              "                                                                              &#x27;Tier &#x27;\n",
              "                                                                              &#x27;2&#x27;,\n",
              "                                                                              &#x27;Tier &#x27;\n",
              "                                                                              &#x27;3&#x27;],\n",
              "                                                                             [&#x27;1985&#x27;,\n",
              "                                                                              &#x27;1987&#x27;,\n",
              "                                                                              &#x27;1997&#x27;,\n",
              "                                                                              &#x27;1998&#x27;,\n",
              "                                                                              &#x27;1999&#x27;,\n",
              "                                                                              &#x27;2002&#x27;,\n",
              "                                                                              &#x27;2004&#x27;,\n",
              "                                                                              &#x27;2007&#x27;,\n",
              "                                                                              &#x27;2009&#x27;]]))]),\n",
              "                                 [&#x27;Outlet_Size&#x27;, &#x27;Outlet_Location_Type&#x27;,\n",
              "                                  &#x27;Outlet_Establishme...\n",
              "                                                  SimpleImputer(fill_value=&#x27;missing&#x27;,\n",
              "                                                                strategy=&#x27;constant&#x27;)),\n",
              "                                                 (&#x27;onehotencoder&#x27;,\n",
              "                                                  OneHotEncoder(handle_unknown=&#x27;ignore&#x27;,\n",
              "                                                                sparse=False))]),\n",
              "                                 [&#x27;Item_Fat_Content&#x27;, &#x27;Item_Type&#x27;,\n",
              "                                  &#x27;Outlet_Type&#x27;]),\n",
              "                                (&#x27;pipeline-3&#x27;,\n",
              "                                 Pipeline(steps=[(&#x27;simpleimputer&#x27;,\n",
              "                                                  SimpleImputer()),\n",
              "                                                 (&#x27;standardscaler&#x27;,\n",
              "                                                  StandardScaler())]),\n",
              "                                 &lt;sklearn.compose._column_transformer.make_column_selector object at 0x7f70d0fb3a50&gt;)])</pre></div></div></div><div class=\"sk-parallel\"><div class=\"sk-parallel-item\"><div class=\"sk-item\"><div class=\"sk-label-container\"><div class=\"sk-label sk-toggleable\"><input class=\"sk-toggleable__control sk-hidden--visually\" id=\"da33e1b4-69f1-4aa9-a199-fbe38a88cfe5\" type=\"checkbox\" ><label for=\"da33e1b4-69f1-4aa9-a199-fbe38a88cfe5\" class=\"sk-toggleable__label sk-toggleable__label-arrow\">pipeline-1</label><div class=\"sk-toggleable__content\"><pre>[&#x27;Outlet_Size&#x27;, &#x27;Outlet_Location_Type&#x27;, &#x27;Outlet_Establishment_Year&#x27;]</pre></div></div></div><div class=\"sk-serial\"><div class=\"sk-item\"><div class=\"sk-serial\"><div class=\"sk-item\"><div class=\"sk-estimator sk-toggleable\"><input class=\"sk-toggleable__control sk-hidden--visually\" id=\"2f616a2b-e57c-4df9-bda0-6a121ba30cd6\" type=\"checkbox\" ><label for=\"2f616a2b-e57c-4df9-bda0-6a121ba30cd6\" class=\"sk-toggleable__label sk-toggleable__label-arrow\">SimpleImputer</label><div class=\"sk-toggleable__content\"><pre>SimpleImputer(strategy=&#x27;most_frequent&#x27;)</pre></div></div></div><div class=\"sk-item\"><div class=\"sk-estimator sk-toggleable\"><input class=\"sk-toggleable__control sk-hidden--visually\" id=\"15e7b0ef-eda0-4bd8-a5f7-880f53796bb5\" type=\"checkbox\" ><label for=\"15e7b0ef-eda0-4bd8-a5f7-880f53796bb5\" class=\"sk-toggleable__label sk-toggleable__label-arrow\">OrdinalEncoder</label><div class=\"sk-toggleable__content\"><pre>OrdinalEncoder(categories=[[&#x27;Small&#x27;, &#x27;Medium&#x27;, &#x27;High&#x27;],\n",
              "                           [&#x27;Tier 1&#x27;, &#x27;Tier 2&#x27;, &#x27;Tier 3&#x27;],\n",
              "                           [&#x27;1985&#x27;, &#x27;1987&#x27;, &#x27;1997&#x27;, &#x27;1998&#x27;, &#x27;1999&#x27;, &#x27;2002&#x27;,\n",
              "                            &#x27;2004&#x27;, &#x27;2007&#x27;, &#x27;2009&#x27;]])</pre></div></div></div></div></div></div></div></div><div class=\"sk-parallel-item\"><div class=\"sk-item\"><div class=\"sk-label-container\"><div class=\"sk-label sk-toggleable\"><input class=\"sk-toggleable__control sk-hidden--visually\" id=\"f230e5e4-821b-4b71-ac8b-29684d8640bc\" type=\"checkbox\" ><label for=\"f230e5e4-821b-4b71-ac8b-29684d8640bc\" class=\"sk-toggleable__label sk-toggleable__label-arrow\">pipeline-2</label><div class=\"sk-toggleable__content\"><pre>[&#x27;Item_Fat_Content&#x27;, &#x27;Item_Type&#x27;, &#x27;Outlet_Type&#x27;]</pre></div></div></div><div class=\"sk-serial\"><div class=\"sk-item\"><div class=\"sk-serial\"><div class=\"sk-item\"><div class=\"sk-estimator sk-toggleable\"><input class=\"sk-toggleable__control sk-hidden--visually\" id=\"f9c97af5-e93f-4797-98a9-3e855fcb1fe8\" type=\"checkbox\" ><label for=\"f9c97af5-e93f-4797-98a9-3e855fcb1fe8\" class=\"sk-toggleable__label sk-toggleable__label-arrow\">SimpleImputer</label><div class=\"sk-toggleable__content\"><pre>SimpleImputer(fill_value=&#x27;missing&#x27;, strategy=&#x27;constant&#x27;)</pre></div></div></div><div class=\"sk-item\"><div class=\"sk-estimator sk-toggleable\"><input class=\"sk-toggleable__control sk-hidden--visually\" id=\"2b834cee-f600-4f92-9019-3c373936921c\" type=\"checkbox\" ><label for=\"2b834cee-f600-4f92-9019-3c373936921c\" class=\"sk-toggleable__label sk-toggleable__label-arrow\">OneHotEncoder</label><div class=\"sk-toggleable__content\"><pre>OneHotEncoder(handle_unknown=&#x27;ignore&#x27;, sparse=False)</pre></div></div></div></div></div></div></div></div><div class=\"sk-parallel-item\"><div class=\"sk-item\"><div class=\"sk-label-container\"><div class=\"sk-label sk-toggleable\"><input class=\"sk-toggleable__control sk-hidden--visually\" id=\"0a178ec7-2eed-4c65-8072-d0b9abb74ec6\" type=\"checkbox\" ><label for=\"0a178ec7-2eed-4c65-8072-d0b9abb74ec6\" class=\"sk-toggleable__label sk-toggleable__label-arrow\">pipeline-3</label><div class=\"sk-toggleable__content\"><pre>&lt;sklearn.compose._column_transformer.make_column_selector object at 0x7f70d0fb3a50&gt;</pre></div></div></div><div class=\"sk-serial\"><div class=\"sk-item\"><div class=\"sk-serial\"><div class=\"sk-item\"><div class=\"sk-estimator sk-toggleable\"><input class=\"sk-toggleable__control sk-hidden--visually\" id=\"c60aada2-2b23-417f-813f-4acac4802d4c\" type=\"checkbox\" ><label for=\"c60aada2-2b23-417f-813f-4acac4802d4c\" class=\"sk-toggleable__label sk-toggleable__label-arrow\">SimpleImputer</label><div class=\"sk-toggleable__content\"><pre>SimpleImputer()</pre></div></div></div><div class=\"sk-item\"><div class=\"sk-estimator sk-toggleable\"><input class=\"sk-toggleable__control sk-hidden--visually\" id=\"5e6e16a2-01ef-463c-b559-62efe02eaf12\" type=\"checkbox\" ><label for=\"5e6e16a2-01ef-463c-b559-62efe02eaf12\" class=\"sk-toggleable__label sk-toggleable__label-arrow\">StandardScaler</label><div class=\"sk-toggleable__content\"><pre>StandardScaler()</pre></div></div></div></div></div></div></div></div></div></div></div></div>"
            ]
          },
          "metadata": {},
          "execution_count": 55
        }
      ]
    },
    {
      "cell_type": "markdown",
      "source": [
        "Fit the Column Transformer on the Training Data"
      ],
      "metadata": {
        "id": "64tSRfCL1aPQ"
      }
    },
    {
      "cell_type": "code",
      "source": [
        "# fit on train\n",
        "preprocessor.fit(X_train)"
      ],
      "metadata": {
        "colab": {
          "base_uri": "https://localhost:8080/",
          "height": 152
        },
        "id": "CBmcrlGABkFz",
        "outputId": "e0814a31-3d8f-4b6c-e6b5-2914fc74de50"
      },
      "execution_count": 56,
      "outputs": [
        {
          "output_type": "execute_result",
          "data": {
            "text/plain": [
              "ColumnTransformer(transformers=[('pipeline-1',\n",
              "                                 Pipeline(steps=[('simpleimputer',\n",
              "                                                  SimpleImputer(strategy='most_frequent')),\n",
              "                                                 ('ordinalencoder',\n",
              "                                                  OrdinalEncoder(categories=[['Small',\n",
              "                                                                              'Medium',\n",
              "                                                                              'High'],\n",
              "                                                                             ['Tier '\n",
              "                                                                              '1',\n",
              "                                                                              'Tier '\n",
              "                                                                              '2',\n",
              "                                                                              'Tier '\n",
              "                                                                              '3'],\n",
              "                                                                             ['1985',\n",
              "                                                                              '1987',\n",
              "                                                                              '1997',\n",
              "                                                                              '1998',\n",
              "                                                                              '1999',\n",
              "                                                                              '2002',\n",
              "                                                                              '2004',\n",
              "                                                                              '2007',\n",
              "                                                                              '2009']]))]),\n",
              "                                 ['Outlet_Size', 'Outlet_Location_Type',\n",
              "                                  'Outlet_Establishme...\n",
              "                                                  SimpleImputer(fill_value='missing',\n",
              "                                                                strategy='constant')),\n",
              "                                                 ('onehotencoder',\n",
              "                                                  OneHotEncoder(handle_unknown='ignore',\n",
              "                                                                sparse=False))]),\n",
              "                                 ['Item_Fat_Content', 'Item_Type',\n",
              "                                  'Outlet_Type']),\n",
              "                                ('pipeline-3',\n",
              "                                 Pipeline(steps=[('simpleimputer',\n",
              "                                                  SimpleImputer()),\n",
              "                                                 ('standardscaler',\n",
              "                                                  StandardScaler())]),\n",
              "                                 <sklearn.compose._column_transformer.make_column_selector object at 0x7f70d0fb3a50>)])"
            ],
            "text/html": [
              "<style>#sk-4829738d-173c-4799-9cd1-bc3efcf7d69b {color: black;background-color: white;}#sk-4829738d-173c-4799-9cd1-bc3efcf7d69b pre{padding: 0;}#sk-4829738d-173c-4799-9cd1-bc3efcf7d69b div.sk-toggleable {background-color: white;}#sk-4829738d-173c-4799-9cd1-bc3efcf7d69b label.sk-toggleable__label {cursor: pointer;display: block;width: 100%;margin-bottom: 0;padding: 0.3em;box-sizing: border-box;text-align: center;}#sk-4829738d-173c-4799-9cd1-bc3efcf7d69b label.sk-toggleable__label-arrow:before {content: \"▸\";float: left;margin-right: 0.25em;color: #696969;}#sk-4829738d-173c-4799-9cd1-bc3efcf7d69b label.sk-toggleable__label-arrow:hover:before {color: black;}#sk-4829738d-173c-4799-9cd1-bc3efcf7d69b div.sk-estimator:hover label.sk-toggleable__label-arrow:before {color: black;}#sk-4829738d-173c-4799-9cd1-bc3efcf7d69b div.sk-toggleable__content {max-height: 0;max-width: 0;overflow: hidden;text-align: left;background-color: #f0f8ff;}#sk-4829738d-173c-4799-9cd1-bc3efcf7d69b div.sk-toggleable__content pre {margin: 0.2em;color: black;border-radius: 0.25em;background-color: #f0f8ff;}#sk-4829738d-173c-4799-9cd1-bc3efcf7d69b input.sk-toggleable__control:checked~div.sk-toggleable__content {max-height: 200px;max-width: 100%;overflow: auto;}#sk-4829738d-173c-4799-9cd1-bc3efcf7d69b input.sk-toggleable__control:checked~label.sk-toggleable__label-arrow:before {content: \"▾\";}#sk-4829738d-173c-4799-9cd1-bc3efcf7d69b div.sk-estimator input.sk-toggleable__control:checked~label.sk-toggleable__label {background-color: #d4ebff;}#sk-4829738d-173c-4799-9cd1-bc3efcf7d69b div.sk-label input.sk-toggleable__control:checked~label.sk-toggleable__label {background-color: #d4ebff;}#sk-4829738d-173c-4799-9cd1-bc3efcf7d69b input.sk-hidden--visually {border: 0;clip: rect(1px 1px 1px 1px);clip: rect(1px, 1px, 1px, 1px);height: 1px;margin: -1px;overflow: hidden;padding: 0;position: absolute;width: 1px;}#sk-4829738d-173c-4799-9cd1-bc3efcf7d69b div.sk-estimator {font-family: monospace;background-color: #f0f8ff;border: 1px dotted black;border-radius: 0.25em;box-sizing: border-box;margin-bottom: 0.5em;}#sk-4829738d-173c-4799-9cd1-bc3efcf7d69b div.sk-estimator:hover {background-color: #d4ebff;}#sk-4829738d-173c-4799-9cd1-bc3efcf7d69b div.sk-parallel-item::after {content: \"\";width: 100%;border-bottom: 1px solid gray;flex-grow: 1;}#sk-4829738d-173c-4799-9cd1-bc3efcf7d69b div.sk-label:hover label.sk-toggleable__label {background-color: #d4ebff;}#sk-4829738d-173c-4799-9cd1-bc3efcf7d69b div.sk-serial::before {content: \"\";position: absolute;border-left: 1px solid gray;box-sizing: border-box;top: 2em;bottom: 0;left: 50%;}#sk-4829738d-173c-4799-9cd1-bc3efcf7d69b div.sk-serial {display: flex;flex-direction: column;align-items: center;background-color: white;padding-right: 0.2em;padding-left: 0.2em;}#sk-4829738d-173c-4799-9cd1-bc3efcf7d69b div.sk-item {z-index: 1;}#sk-4829738d-173c-4799-9cd1-bc3efcf7d69b div.sk-parallel {display: flex;align-items: stretch;justify-content: center;background-color: white;}#sk-4829738d-173c-4799-9cd1-bc3efcf7d69b div.sk-parallel::before {content: \"\";position: absolute;border-left: 1px solid gray;box-sizing: border-box;top: 2em;bottom: 0;left: 50%;}#sk-4829738d-173c-4799-9cd1-bc3efcf7d69b div.sk-parallel-item {display: flex;flex-direction: column;position: relative;background-color: white;}#sk-4829738d-173c-4799-9cd1-bc3efcf7d69b div.sk-parallel-item:first-child::after {align-self: flex-end;width: 50%;}#sk-4829738d-173c-4799-9cd1-bc3efcf7d69b div.sk-parallel-item:last-child::after {align-self: flex-start;width: 50%;}#sk-4829738d-173c-4799-9cd1-bc3efcf7d69b div.sk-parallel-item:only-child::after {width: 0;}#sk-4829738d-173c-4799-9cd1-bc3efcf7d69b div.sk-dashed-wrapped {border: 1px dashed gray;margin: 0 0.4em 0.5em 0.4em;box-sizing: border-box;padding-bottom: 0.4em;background-color: white;position: relative;}#sk-4829738d-173c-4799-9cd1-bc3efcf7d69b div.sk-label label {font-family: monospace;font-weight: bold;background-color: white;display: inline-block;line-height: 1.2em;}#sk-4829738d-173c-4799-9cd1-bc3efcf7d69b div.sk-label-container {position: relative;z-index: 2;text-align: center;}#sk-4829738d-173c-4799-9cd1-bc3efcf7d69b div.sk-container {/* jupyter's `normalize.less` sets `[hidden] { display: none; }` but bootstrap.min.css set `[hidden] { display: none !important; }` so we also need the `!important` here to be able to override the default hidden behavior on the sphinx rendered scikit-learn.org. See: https://github.com/scikit-learn/scikit-learn/issues/21755 */display: inline-block !important;position: relative;}#sk-4829738d-173c-4799-9cd1-bc3efcf7d69b div.sk-text-repr-fallback {display: none;}</style><div id=\"sk-4829738d-173c-4799-9cd1-bc3efcf7d69b\" class=\"sk-top-container\"><div class=\"sk-text-repr-fallback\"><pre>ColumnTransformer(transformers=[(&#x27;pipeline-1&#x27;,\n",
              "                                 Pipeline(steps=[(&#x27;simpleimputer&#x27;,\n",
              "                                                  SimpleImputer(strategy=&#x27;most_frequent&#x27;)),\n",
              "                                                 (&#x27;ordinalencoder&#x27;,\n",
              "                                                  OrdinalEncoder(categories=[[&#x27;Small&#x27;,\n",
              "                                                                              &#x27;Medium&#x27;,\n",
              "                                                                              &#x27;High&#x27;],\n",
              "                                                                             [&#x27;Tier &#x27;\n",
              "                                                                              &#x27;1&#x27;,\n",
              "                                                                              &#x27;Tier &#x27;\n",
              "                                                                              &#x27;2&#x27;,\n",
              "                                                                              &#x27;Tier &#x27;\n",
              "                                                                              &#x27;3&#x27;],\n",
              "                                                                             [&#x27;1985&#x27;,\n",
              "                                                                              &#x27;1987&#x27;,\n",
              "                                                                              &#x27;1997&#x27;,\n",
              "                                                                              &#x27;1998&#x27;,\n",
              "                                                                              &#x27;1999&#x27;,\n",
              "                                                                              &#x27;2002&#x27;,\n",
              "                                                                              &#x27;2004&#x27;,\n",
              "                                                                              &#x27;2007&#x27;,\n",
              "                                                                              &#x27;2009&#x27;]]))]),\n",
              "                                 [&#x27;Outlet_Size&#x27;, &#x27;Outlet_Location_Type&#x27;,\n",
              "                                  &#x27;Outlet_Establishme...\n",
              "                                                  SimpleImputer(fill_value=&#x27;missing&#x27;,\n",
              "                                                                strategy=&#x27;constant&#x27;)),\n",
              "                                                 (&#x27;onehotencoder&#x27;,\n",
              "                                                  OneHotEncoder(handle_unknown=&#x27;ignore&#x27;,\n",
              "                                                                sparse=False))]),\n",
              "                                 [&#x27;Item_Fat_Content&#x27;, &#x27;Item_Type&#x27;,\n",
              "                                  &#x27;Outlet_Type&#x27;]),\n",
              "                                (&#x27;pipeline-3&#x27;,\n",
              "                                 Pipeline(steps=[(&#x27;simpleimputer&#x27;,\n",
              "                                                  SimpleImputer()),\n",
              "                                                 (&#x27;standardscaler&#x27;,\n",
              "                                                  StandardScaler())]),\n",
              "                                 &lt;sklearn.compose._column_transformer.make_column_selector object at 0x7f70d0fb3a50&gt;)])</pre><b>Please rerun this cell to show the HTML repr or trust the notebook.</b></div><div class=\"sk-container\" hidden><div class=\"sk-item sk-dashed-wrapped\"><div class=\"sk-label-container\"><div class=\"sk-label sk-toggleable\"><input class=\"sk-toggleable__control sk-hidden--visually\" id=\"43817d29-4495-4a18-b86d-af6d8da67cd0\" type=\"checkbox\" ><label for=\"43817d29-4495-4a18-b86d-af6d8da67cd0\" class=\"sk-toggleable__label sk-toggleable__label-arrow\">ColumnTransformer</label><div class=\"sk-toggleable__content\"><pre>ColumnTransformer(transformers=[(&#x27;pipeline-1&#x27;,\n",
              "                                 Pipeline(steps=[(&#x27;simpleimputer&#x27;,\n",
              "                                                  SimpleImputer(strategy=&#x27;most_frequent&#x27;)),\n",
              "                                                 (&#x27;ordinalencoder&#x27;,\n",
              "                                                  OrdinalEncoder(categories=[[&#x27;Small&#x27;,\n",
              "                                                                              &#x27;Medium&#x27;,\n",
              "                                                                              &#x27;High&#x27;],\n",
              "                                                                             [&#x27;Tier &#x27;\n",
              "                                                                              &#x27;1&#x27;,\n",
              "                                                                              &#x27;Tier &#x27;\n",
              "                                                                              &#x27;2&#x27;,\n",
              "                                                                              &#x27;Tier &#x27;\n",
              "                                                                              &#x27;3&#x27;],\n",
              "                                                                             [&#x27;1985&#x27;,\n",
              "                                                                              &#x27;1987&#x27;,\n",
              "                                                                              &#x27;1997&#x27;,\n",
              "                                                                              &#x27;1998&#x27;,\n",
              "                                                                              &#x27;1999&#x27;,\n",
              "                                                                              &#x27;2002&#x27;,\n",
              "                                                                              &#x27;2004&#x27;,\n",
              "                                                                              &#x27;2007&#x27;,\n",
              "                                                                              &#x27;2009&#x27;]]))]),\n",
              "                                 [&#x27;Outlet_Size&#x27;, &#x27;Outlet_Location_Type&#x27;,\n",
              "                                  &#x27;Outlet_Establishme...\n",
              "                                                  SimpleImputer(fill_value=&#x27;missing&#x27;,\n",
              "                                                                strategy=&#x27;constant&#x27;)),\n",
              "                                                 (&#x27;onehotencoder&#x27;,\n",
              "                                                  OneHotEncoder(handle_unknown=&#x27;ignore&#x27;,\n",
              "                                                                sparse=False))]),\n",
              "                                 [&#x27;Item_Fat_Content&#x27;, &#x27;Item_Type&#x27;,\n",
              "                                  &#x27;Outlet_Type&#x27;]),\n",
              "                                (&#x27;pipeline-3&#x27;,\n",
              "                                 Pipeline(steps=[(&#x27;simpleimputer&#x27;,\n",
              "                                                  SimpleImputer()),\n",
              "                                                 (&#x27;standardscaler&#x27;,\n",
              "                                                  StandardScaler())]),\n",
              "                                 &lt;sklearn.compose._column_transformer.make_column_selector object at 0x7f70d0fb3a50&gt;)])</pre></div></div></div><div class=\"sk-parallel\"><div class=\"sk-parallel-item\"><div class=\"sk-item\"><div class=\"sk-label-container\"><div class=\"sk-label sk-toggleable\"><input class=\"sk-toggleable__control sk-hidden--visually\" id=\"72931f27-96b8-481c-bdc9-8d13cae63e35\" type=\"checkbox\" ><label for=\"72931f27-96b8-481c-bdc9-8d13cae63e35\" class=\"sk-toggleable__label sk-toggleable__label-arrow\">pipeline-1</label><div class=\"sk-toggleable__content\"><pre>[&#x27;Outlet_Size&#x27;, &#x27;Outlet_Location_Type&#x27;, &#x27;Outlet_Establishment_Year&#x27;]</pre></div></div></div><div class=\"sk-serial\"><div class=\"sk-item\"><div class=\"sk-serial\"><div class=\"sk-item\"><div class=\"sk-estimator sk-toggleable\"><input class=\"sk-toggleable__control sk-hidden--visually\" id=\"6511ed52-ca89-4d7c-96f0-39222f6b3400\" type=\"checkbox\" ><label for=\"6511ed52-ca89-4d7c-96f0-39222f6b3400\" class=\"sk-toggleable__label sk-toggleable__label-arrow\">SimpleImputer</label><div class=\"sk-toggleable__content\"><pre>SimpleImputer(strategy=&#x27;most_frequent&#x27;)</pre></div></div></div><div class=\"sk-item\"><div class=\"sk-estimator sk-toggleable\"><input class=\"sk-toggleable__control sk-hidden--visually\" id=\"44f52780-589c-4d28-8dc3-cb986fe09bf9\" type=\"checkbox\" ><label for=\"44f52780-589c-4d28-8dc3-cb986fe09bf9\" class=\"sk-toggleable__label sk-toggleable__label-arrow\">OrdinalEncoder</label><div class=\"sk-toggleable__content\"><pre>OrdinalEncoder(categories=[[&#x27;Small&#x27;, &#x27;Medium&#x27;, &#x27;High&#x27;],\n",
              "                           [&#x27;Tier 1&#x27;, &#x27;Tier 2&#x27;, &#x27;Tier 3&#x27;],\n",
              "                           [&#x27;1985&#x27;, &#x27;1987&#x27;, &#x27;1997&#x27;, &#x27;1998&#x27;, &#x27;1999&#x27;, &#x27;2002&#x27;,\n",
              "                            &#x27;2004&#x27;, &#x27;2007&#x27;, &#x27;2009&#x27;]])</pre></div></div></div></div></div></div></div></div><div class=\"sk-parallel-item\"><div class=\"sk-item\"><div class=\"sk-label-container\"><div class=\"sk-label sk-toggleable\"><input class=\"sk-toggleable__control sk-hidden--visually\" id=\"d9bfde7f-5a25-40eb-abd0-09f6e1934cf1\" type=\"checkbox\" ><label for=\"d9bfde7f-5a25-40eb-abd0-09f6e1934cf1\" class=\"sk-toggleable__label sk-toggleable__label-arrow\">pipeline-2</label><div class=\"sk-toggleable__content\"><pre>[&#x27;Item_Fat_Content&#x27;, &#x27;Item_Type&#x27;, &#x27;Outlet_Type&#x27;]</pre></div></div></div><div class=\"sk-serial\"><div class=\"sk-item\"><div class=\"sk-serial\"><div class=\"sk-item\"><div class=\"sk-estimator sk-toggleable\"><input class=\"sk-toggleable__control sk-hidden--visually\" id=\"03f6d033-b562-4bc9-878d-a5f5d334497b\" type=\"checkbox\" ><label for=\"03f6d033-b562-4bc9-878d-a5f5d334497b\" class=\"sk-toggleable__label sk-toggleable__label-arrow\">SimpleImputer</label><div class=\"sk-toggleable__content\"><pre>SimpleImputer(fill_value=&#x27;missing&#x27;, strategy=&#x27;constant&#x27;)</pre></div></div></div><div class=\"sk-item\"><div class=\"sk-estimator sk-toggleable\"><input class=\"sk-toggleable__control sk-hidden--visually\" id=\"d087795c-fee1-4384-ac4f-b1dddfc8e8cb\" type=\"checkbox\" ><label for=\"d087795c-fee1-4384-ac4f-b1dddfc8e8cb\" class=\"sk-toggleable__label sk-toggleable__label-arrow\">OneHotEncoder</label><div class=\"sk-toggleable__content\"><pre>OneHotEncoder(handle_unknown=&#x27;ignore&#x27;, sparse=False)</pre></div></div></div></div></div></div></div></div><div class=\"sk-parallel-item\"><div class=\"sk-item\"><div class=\"sk-label-container\"><div class=\"sk-label sk-toggleable\"><input class=\"sk-toggleable__control sk-hidden--visually\" id=\"ba95c6ad-5cf0-4f71-bbd6-512691b09e4b\" type=\"checkbox\" ><label for=\"ba95c6ad-5cf0-4f71-bbd6-512691b09e4b\" class=\"sk-toggleable__label sk-toggleable__label-arrow\">pipeline-3</label><div class=\"sk-toggleable__content\"><pre>&lt;sklearn.compose._column_transformer.make_column_selector object at 0x7f70d0fb3a50&gt;</pre></div></div></div><div class=\"sk-serial\"><div class=\"sk-item\"><div class=\"sk-serial\"><div class=\"sk-item\"><div class=\"sk-estimator sk-toggleable\"><input class=\"sk-toggleable__control sk-hidden--visually\" id=\"6397e9d0-d700-4870-9824-cc4e64bb5f90\" type=\"checkbox\" ><label for=\"6397e9d0-d700-4870-9824-cc4e64bb5f90\" class=\"sk-toggleable__label sk-toggleable__label-arrow\">SimpleImputer</label><div class=\"sk-toggleable__content\"><pre>SimpleImputer()</pre></div></div></div><div class=\"sk-item\"><div class=\"sk-estimator sk-toggleable\"><input class=\"sk-toggleable__control sk-hidden--visually\" id=\"27691fa1-fc47-45ad-a4b5-a0e626fd6adb\" type=\"checkbox\" ><label for=\"27691fa1-fc47-45ad-a4b5-a0e626fd6adb\" class=\"sk-toggleable__label sk-toggleable__label-arrow\">StandardScaler</label><div class=\"sk-toggleable__content\"><pre>StandardScaler()</pre></div></div></div></div></div></div></div></div></div></div></div></div>"
            ]
          },
          "metadata": {},
          "execution_count": 56
        }
      ]
    },
    {
      "cell_type": "code",
      "source": [
        "# transform train and test\n",
        "X_train_processed = preprocessor.transform(X_train)\n",
        "X_test_processed = preprocessor.transform(X_test)"
      ],
      "metadata": {
        "id": "xyGHG4iK-Qsm"
      },
      "execution_count": 57,
      "outputs": []
    },
    {
      "cell_type": "code",
      "source": [
        "# Check for missing values and that data is scaled and one-hot encoded\n",
        "print(np.isnan(X_train_processed).sum().sum(), 'missing values in training data')\n",
        "print(np.isnan(X_test_processed).sum().sum(), 'missing values in testing data')\n",
        "print('\\n')\n",
        "print('All data in X_train_processed are', X_train_processed.dtype)\n",
        "print('All data in X_test_processed are', X_test_processed.dtype)\n",
        "print('\\n')\n",
        "X_train_processed"
      ],
      "metadata": {
        "colab": {
          "base_uri": "https://localhost:8080/"
        },
        "id": "R_gRUZbF-X6s",
        "outputId": "c8f98e4a-b5f8-4a6a-fe05-8f2d55953a18"
      },
      "execution_count": 58,
      "outputs": [
        {
          "output_type": "stream",
          "name": "stdout",
          "text": [
            "0 missing values in training data\n",
            "0 missing values in testing data\n",
            "\n",
            "\n",
            "All data in X_train_processed are float64\n",
            "All data in X_test_processed are float64\n",
            "\n",
            "\n"
          ]
        },
        {
          "output_type": "execute_result",
          "data": {
            "text/plain": [
              "array([[ 1.        ,  2.        ,  8.        , ...,  0.81724868,\n",
              "        -0.71277507,  1.82810922],\n",
              "       [ 1.        ,  2.        ,  8.        , ...,  0.5563395 ,\n",
              "        -1.29105225,  0.60336888],\n",
              "       [ 1.        ,  0.        ,  4.        , ..., -0.13151196,\n",
              "         1.81331864,  0.24454056],\n",
              "       ...,\n",
              "       [ 1.        ,  1.        ,  5.        , ...,  1.11373638,\n",
              "        -0.92052713,  1.52302674],\n",
              "       [ 1.        ,  1.        ,  7.        , ...,  1.76600931,\n",
              "        -0.2277552 , -0.38377708],\n",
              "       [ 0.        ,  0.        ,  2.        , ...,  0.81724868,\n",
              "        -0.95867683, -0.73836105]])"
            ]
          },
          "metadata": {},
          "execution_count": 58
        }
      ]
    }
  ]
}